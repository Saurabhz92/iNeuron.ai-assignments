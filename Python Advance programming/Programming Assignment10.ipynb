{
 "cells": [
  {
   "cell_type": "markdown",
   "id": "5393ec13",
   "metadata": {},
   "source": [
    "# Assignment 10 "
   ]
  },
  {
   "cell_type": "markdown",
   "id": "77f97bf0",
   "metadata": {},
   "source": [
    "#### 1. Create a function that takes the width, height and character and returns a picture frame as a 2D list.\n",
    "**Examples:**    \n",
    "`get_frame(4, 5, \"#\") ➞ [\n",
    "  [\"####\"],\n",
    "  [\"#  #\"],\n",
    "  [\"#  #\"],\n",
    "  [\"#  #\"],\n",
    "  [\"####\"]\n",
    "]`  \n",
    "`# Frame is 4 characters wide and 5 characters tall.`  \n",
    "\n",
    "`get_frame(10, 3, \"*\") ➞ [\n",
    "  [\"**********\"],\n",
    "  [\"*        *\"],\n",
    "  [\"**********\"]\n",
    "]`   \n",
    "`# Frame is 10 characters and wide and 3 characters tall.`  \n",
    "\n",
    "`get_frame(2, 5, \"0\") ➞ \"invalid\"`   \n",
    "`# Frame's width is not more than 2.`"
   ]
  },
  {
   "cell_type": "code",
   "execution_count": 2,
   "id": "0bb20063",
   "metadata": {},
   "outputs": [
    {
     "name": "stdout",
     "output_type": "stream",
     "text": [
      "['########']\n",
      "['#      #']\n",
      "['#      #']\n",
      "['#      #']\n",
      "['########']\n",
      "\n",
      "['***************']\n",
      "['*             *']\n",
      "['***************']\n",
      "\n",
      "Invalid\n"
     ]
    }
   ],
   "source": [
    "def get_frame(width ,in_height ,character):\n",
    "    \n",
    "    if width <= 2:\n",
    "        \n",
    "        print(\"Invalid\")\n",
    "    \n",
    "    else:\n",
    "        out_list = []\n",
    "        \n",
    "        for height in range(in_height):\n",
    "            \n",
    "            if height == 0 or height == in_height-1:\n",
    "                out_list.append([width*character])\n",
    "            \n",
    "            else:\n",
    "                out_list.append([character+' '*(width-2)+character])\n",
    "        \n",
    "        for i in out_list:\n",
    "            \n",
    "            print(i)\n",
    "        \n",
    "        print()\n",
    "    \n",
    "get_frame(8, 5, \"#\")\n",
    "get_frame(15, 3, \"*\")\n",
    "get_frame(2, 5, \"0\")"
   ]
  },
  {
   "cell_type": "markdown",
   "id": "6fde1a9c",
   "metadata": {},
   "source": [
    "#### 2. Write three functions:\n",
    "  1. boolean_and\n",
    "  2. boolean_or\n",
    "  3. boolean_xor\n",
    "  \n",
    "These functions should evaluate a list of True and False values, starting from the leftmost element and evaluating pairwise.\n",
    "**Examples:**    \n",
    "`boolean_and([True, True, False, True]) ➞ False`  \n",
    "`# [True, True, False, True] => [True, False, True] => [False, True] => False`   \n",
    "\n",
    "`boolean_or([True, True, False, False]) ➞ True`   \n",
    "`# [True, True, False, True] => [True, False, False] => [True, False] => True`  \n",
    "\n",
    "`boolean_xor([True, True, False, False]) ➞ False`   \n",
    "`# [True, True, False, False] => [False, False, False] => [False, False] => False`  "
   ]
  },
  {
   "cell_type": "code",
   "execution_count": 3,
   "id": "d9113920",
   "metadata": {},
   "outputs": [
    {
     "name": "stdout",
     "output_type": "stream",
     "text": [
      "boolean_and([True, True, False, True]) ➞ False\n",
      "boolean_or([True, True, False, False]) ➞ True\n",
      "boolean_xor([True, True, False, False]) ➞ False\n"
     ]
    }
   ],
   "source": [
    "def boolean_and(lst):\n",
    "    \n",
    "    lst_clone = lst.copy()\n",
    "    \n",
    "    while len(lst) != 1:\n",
    "        \n",
    "        x = lst.pop(0)\n",
    "        \n",
    "        y = lst.pop(0)\n",
    "        \n",
    "        lst.insert(0,(x and y))\n",
    "    \n",
    "    print(f'boolean_and({lst_clone}) ➞ {lst[0]}')\n",
    "    \n",
    "def boolean_or(lst):\n",
    "    lst_clone = lst.copy()\n",
    "    while len(lst) != 1:\n",
    "        x = lst.pop(0)\n",
    "        y = lst.pop(0)\n",
    "        lst.insert(0,(x or y))\n",
    "    print(f'boolean_or({lst_clone}) ➞ {lst[0]}')\n",
    "    \n",
    "def boolean_xor(lst):\n",
    "    lst_clone = lst.copy()\n",
    "    while len(lst) != 1:\n",
    "        x = lst.pop(0)\n",
    "        y = lst.pop(0)\n",
    "        lst.insert(0,(x ^ y))\n",
    "    print(f'boolean_xor({lst_clone}) ➞ {lst[0]}')\n",
    "    \n",
    "boolean_and([True, True, False, True])\n",
    "boolean_or([True, True, False, False])\n",
    "boolean_xor([True, True, False, False])"
   ]
  },
  {
   "cell_type": "markdown",
   "id": "8ada2d1f",
   "metadata": {},
   "source": [
    "#### 3. Create a function that creates a box based on dimension n.\n",
    "**Examples:**    \n",
    "`make_box(5) ➞ [\n",
    "  \"#####\",\n",
    "  \"#   #\",\n",
    "  \"#   #\",\n",
    "  \"#   #\",\n",
    "  \"#####\"\n",
    "]`\n",
    "\n",
    "`make_box(3) ➞ [\n",
    "  \"###\",\n",
    "  \"# #\",\n",
    "  \"###\"\n",
    "]`\n",
    "\n",
    "`make_box(2) ➞ [\n",
    "  \"##\",\n",
    "  \"##\"\n",
    "]`\n",
    "\n",
    "`make_box(1) ➞ [\n",
    "  \"#\"\n",
    "]`"
   ]
  },
  {
   "cell_type": "code",
   "execution_count": 5,
   "id": "d4ea5966",
   "metadata": {},
   "outputs": [
    {
     "name": "stdout",
     "output_type": "stream",
     "text": [
      "#####\n",
      "#   #\n",
      "#   #\n",
      "#   #\n",
      "#####\n",
      "\n",
      "###\n",
      "# #\n",
      "###\n",
      "\n",
      "##\n",
      "##\n",
      "\n",
      "#\n",
      "\n"
     ]
    }
   ],
   "source": [
    "def make_box(dimension):\n",
    "    out_list = []\n",
    "    for i in range(dimension):\n",
    "        if i == 0 or i == dimension-1:\n",
    "            out_list.append('#'*dimension)\n",
    "        else:\n",
    "            out_list.append('#'+' '*(dimension-2)+'#')\n",
    "    for e in out_list:\n",
    "        print(e)\n",
    "    print()\n",
    "    \n",
    "make_box(5)  \n",
    "make_box(3)\n",
    "make_box(2)\n",
    "make_box(1)"
   ]
  },
  {
   "cell_type": "markdown",
   "id": "e417f461",
   "metadata": {},
   "source": [
    "#### 4. Given a common phrase, return False if any individual word in the phrase contains duplicate letters. Return True otherwise.\n",
    "**Examples:**    \n",
    "`no_duplicate_letters(\"Fortune favours the bold.\") ➞ True`   \n",
    "`no_duplicate_letters(\"You can lead a horse to water, but you can't make him drink.\") ➞ True`   \n",
    "`no_duplicate_letters(\"Look before you leap.\") ➞ False`   \n",
    "`# Duplicate letters in \"Look\" and \"before\".`   \n",
    "`no_duplicate_letters(\"An apple a day keeps the doctor away.\") ➞ False`  \n",
    "`# Duplicate letters in \"apple\", \"keeps\", \"doctor\", and \"away\".`   "
   ]
  },
  {
   "cell_type": "code",
   "execution_count": 6,
   "id": "312fdab8",
   "metadata": {},
   "outputs": [
    {
     "name": "stdout",
     "output_type": "stream",
     "text": [
      "no_duplicate_letters(Fortune favours the bold.) ➞ True\n",
      "no_duplicate_letters(You can lead a horse to water, but you can't make him drink.) ➞ True\n",
      "no_duplicate_letters(Look before you leap.) ➞ False\n",
      "no_duplicate_letters(An apple a day keeps the doctor away.) ➞ False\n"
     ]
    }
   ],
   "source": [
    "def no_duplicate_letters(string):\n",
    "    \n",
    "    output = None\n",
    "    \n",
    "    for i in string.split(' '):\n",
    "        \n",
    "        if len(i) == len(set(i)):\n",
    "            output = True\n",
    "        \n",
    "        else:\n",
    "            output = False\n",
    "            break\n",
    "    \n",
    "    print(f'no_duplicate_letters({string}) ➞ {output}')\n",
    "    \n",
    "no_duplicate_letters(\"Fortune favours the bold.\")\n",
    "no_duplicate_letters(\"You can lead a horse to water, but you can't make him drink.\")\n",
    "no_duplicate_letters(\"Look before you leap.\")\n",
    "no_duplicate_letters(\"An apple a day keeps the doctor away.\")"
   ]
  },
  {
   "cell_type": "markdown",
   "id": "8667486a",
   "metadata": {},
   "source": [
    "#### 5. Write a regular expression that will match the states that voted yes to President Trump's impeachment. You must use RegEx positive lookahead.\n",
    "**Examples:**    \n",
    "`txt = \"Texas = no, California = yes, Florida = yes, Michigan = no\"`   \n",
    "`pattern = \"yourregularexpressionhere\"`   \n",
    "`re.findall(pattern, txt) ➞ [\"California\", \"Florida\"]`  "
   ]
  },
  {
   "cell_type": "code",
   "execution_count": 16,
   "id": "2b164e2c",
   "metadata": {},
   "outputs": [
    {
     "name": "stdout",
     "output_type": "stream",
     "text": [
      "re.findall('\\\\w+\\\\s=+\\\\syes+', 'Texas = no, California = yes, Florida = yes, Michigan = no') ➞ ['California = yes', 'Florida = yes']\n"
     ]
    }
   ],
   "source": [
    "import re\n",
    "txt = \"Texas = no, California = yes, Florida = yes, Michigan = no\"\n",
    "\n",
    "pattern = r'\\w+\\s=+\\syes+'\n",
    "\n",
    "match = re.findall(pattern,txt)\n",
    "\n",
    "print(f're.findall{pattern,txt} ➞ {match}')"
   ]
  },
  {
   "cell_type": "code",
   "execution_count": 9,
   "id": "295a2203",
   "metadata": {},
   "outputs": [
    {
     "data": {
      "text/plain": [
       "['California', 'Florida']"
      ]
     },
     "execution_count": 9,
     "metadata": {},
     "output_type": "execute_result"
    }
   ],
   "source": [
    "match"
   ]
  },
  {
   "cell_type": "code",
   "execution_count": 13,
   "id": "f8b01900",
   "metadata": {},
   "outputs": [],
   "source": [
    "pattern = r'\\w+(?=\\s=\\syes*)'"
   ]
  },
  {
   "cell_type": "code",
   "execution_count": null,
   "id": "f4b39881",
   "metadata": {},
   "outputs": [],
   "source": []
  }
 ],
 "metadata": {
  "kernelspec": {
   "display_name": "Python 3",
   "language": "python",
   "name": "python3"
  },
  "language_info": {
   "codemirror_mode": {
    "name": "ipython",
    "version": 3
   },
   "file_extension": ".py",
   "mimetype": "text/x-python",
   "name": "python",
   "nbconvert_exporter": "python",
   "pygments_lexer": "ipython3",
   "version": "3.8.8"
  }
 },
 "nbformat": 4,
 "nbformat_minor": 5
}
