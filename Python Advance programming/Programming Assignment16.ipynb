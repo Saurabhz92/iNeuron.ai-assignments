{
 "cells": [
  {
   "cell_type": "markdown",
   "id": "438d9b0e",
   "metadata": {},
   "source": [
    "# Assignment 16 "
   ]
  },
  {
   "cell_type": "markdown",
   "id": "03fc42d4",
   "metadata": {},
   "source": [
    "#### 1. Rondo Form is a type of musical structure, in which there is a recurring theme/refrain, notated as A. Here are the rules for valid rondo forms:\n",
    "\n",
    "   - Rondo forms always start and end with an A section.\n",
    "   - In between the A sections, there should be contrasting sections notated as B, then C, then D, etc... No letter should be skipped.\n",
    "   - There shouldn't be any repeats in the sequence (such as ABBACCA).\n",
    "\n",
    "Create a function which validates whether a given string is a valid Rondo Form.\n",
    "\n",
    "**Examples:**   \n",
    "`valid_rondo(\"ABACADAEAFAGAHAIAJA\") ➞ True`  \n",
    "`valid_rondo(\"ABA\") ➞ True`  \n",
    "`valid_rondo(\"ABBACCA\") ➞ False`  \n",
    "`valid_rondo(\"ACAC\") ➞ False`  \n",
    "`valid_rondo(\"A\") ➞ False`   "
   ]
  },
  {
   "cell_type": "code",
   "execution_count": 1,
   "id": "9a451af9",
   "metadata": {},
   "outputs": [
    {
     "name": "stdout",
     "output_type": "stream",
     "text": [
      "valid_rondo(ABACADAEAFAGAHAIAJA) ➞ True\n",
      "valid_rondo(ABA) ➞ True\n",
      "valid_rondo(ABBACCA) ➞ False\n",
      "valid_rondo(ACAC) ➞ False\n",
      "valid_rondo(A) ➞ False\n"
     ]
    }
   ],
   "source": [
    "def valid_rondo(in_string):\n",
    "    in_string_x = in_string.replace('A','')\n",
    "    in_string_x = list(in_string_x)\n",
    "    output = False\n",
    "    if len(in_string_x) == 1:\n",
    "            output= True\n",
    "    else:\n",
    "        for ele in range(len(in_string_x)-1):\n",
    "            if ord(in_string_x[ele]) < ord(in_string_x[ele+1]):\n",
    "                output= True\n",
    "            else:\n",
    "                output = False\n",
    "                break\n",
    "    print(f\"valid_rondo({in_string}) ➞ {output}\")\n",
    "   \n",
    "valid_rondo(\"ABACADAEAFAGAHAIAJA\")\n",
    "valid_rondo(\"ABA\")\n",
    "valid_rondo(\"ABBACCA\")\n",
    "valid_rondo(\"ACAC\")\n",
    "valid_rondo(\"A\")"
   ]
  },
  {
   "cell_type": "markdown",
   "id": "66fbf8b6",
   "metadata": {},
   "source": [
    "#### 2. Create a function that returns the whole of the first sentence which contains a specific word. Include the full stop at the end of the sentence.\n",
    "**Examples:**   \n",
    "`txt = \"I have a cat. I have a mat. Things are going swell.\"`  \n",
    "`sentence_searcher(txt, \"have\") ➞ \"I have a cat.\"`  \n",
    "`sentence_searcher(txt, \"MAT\") ➞ \"I have a mat.\"`  \n",
    "`sentence_searcher(txt, \"things\") ➞ \"Things are going swell.\"`  \n",
    "`sentence_searcher(txt, \"flat\") ➞ \"\"`  "
   ]
  },
  {
   "cell_type": "code",
   "execution_count": 5,
   "id": "2a6045fe",
   "metadata": {},
   "outputs": [
    {
     "data": {
      "text/plain": [
       "'I have a cat'"
      ]
     },
     "execution_count": 5,
     "metadata": {},
     "output_type": "execute_result"
    }
   ],
   "source": [
    "def sentence_searcher(txt, word):\n",
    "    sentences = txt.split(\".\")\n",
    "    for sentence in sentences:\n",
    "        if word.lower()  in sentence.lower():\n",
    "            return sentence\n",
    "            break\n",
    "\n",
    "\n",
    "txt = \"I have a cat. I have a mat. Things are going swell.\"\n",
    "\n",
    "sentence_searcher(txt, \"have\")"
   ]
  },
  {
   "cell_type": "markdown",
   "id": "451d8a81",
   "metadata": {},
   "source": [
    "#### 3. Given a number, find the \"round \"of each digit of the number. An integer is called \"round\" if all its digits except the leftmost (most significant) are equal to zero.\n",
    "    - Round numbers: 4000, 1, 9, 800, 90\n",
    "    - Not round numbers: 110, 707, 222, 1001\n",
    "Create a function that takes a number and returns the \"round\" of each digit (except if the digit is zero) as a string. Check out the following examples for more clarification.\n",
    "\n",
    "**Examples:**   \n",
    "`sum_round(101) ➞ \"1 100\"`   \n",
    "`sum_round(1234) ➞ \"4 30 200 1000\"`  \n",
    "`sum_round(54210) ➞ \"10 200 4000 50000\"`  "
   ]
  },
  {
   "cell_type": "code",
   "execution_count": 7,
   "id": "6e577bfa",
   "metadata": {},
   "outputs": [
    {
     "name": "stdout",
     "output_type": "stream",
     "text": [
      "sum_round(101) ➞ 1 100\n",
      "sum_round(1234) ➞ 4 30 200 1000\n",
      "sum_round(54210) ➞ 10 200 4000 50000\n"
     ]
    }
   ],
   "source": [
    "def sum_round(num):\n",
    "    output = []\n",
    "    num = str(num)\n",
    "    for ele in range(len(num)):\n",
    "        \n",
    "        if num[ele] != '0':\n",
    "            \n",
    "            output.append(num[ele]+len(num[ele+1:])*'0')\n",
    "            \n",
    "    print(f'sum_round({num}) ➞ {\" \".join(output[::-1])}')\n",
    "        \n",
    "sum_round(101)\n",
    "sum_round(1234)\n",
    "sum_round(54210)"
   ]
  },
  {
   "cell_type": "markdown",
   "id": "903e0527",
   "metadata": {},
   "source": [
    "#### 4. Your task, is to create N x N multiplication table, of size n provided in parameter.\n",
    "For example, when n is 5, the multiplication table is:\n",
    "   - 1, 2, 3, 4, 5\n",
    "   - 2, 4, 6, 8, 10\n",
    "   - 3, 6, 9, 12, 15\n",
    "   - 4, 8, 12, 16, 20\n",
    "   - 5, 10, 15, 20, 25\n",
    "   \n",
    "This example will result in:`[[1, 2, 3, 4, 5], [2, 4, 6, 8, 10], [3, 6, 9, 12, 15], [4, 8, 12, 16, 20], [5, 10, 15, 20, 25]]`  \n",
    "**Examples:**   \n",
    "`multiplication_table(1) ➞ [[1]]`   \n",
    "`multiplication_table(3) ➞ [[1, 2, 3], [2, 4, 6], [3, 6, 9]]`  "
   ]
  },
  {
   "cell_type": "code",
   "execution_count": 4,
   "id": "bde88b0f",
   "metadata": {},
   "outputs": [
    {
     "name": "stdout",
     "output_type": "stream",
     "text": [
      "multiplication_table(3) ➞ [[1, 2, 3], [2, 4, 6], [3, 6, 9]]\n",
      "multiplication_table(1) ➞ [[1]]\n",
      "multiplication_table(5) ➞ [[1, 2, 3, 4, 5], [2, 4, 6, 8, 10], [3, 6, 9, 12, 15], [4, 8, 12, 16, 20], [5, 10, 15, 20, 25]]\n"
     ]
    }
   ],
   "source": [
    "def multiplication_table(in_num):\n",
    "    out_list =[]\n",
    "    for a in range(1,in_num+1):\n",
    "        temp_list = []\n",
    "        for b in range(1,in_num+1):\n",
    "            temp_list.append(a*b)\n",
    "        out_list.append(temp_list)\n",
    "    print(f'multiplication_table({in_num}) ➞ {out_list}')\n",
    "        \n",
    "multiplication_table(3) \n",
    "multiplication_table(1)\n",
    "multiplication_table(5)"
   ]
  },
  {
   "cell_type": "markdown",
   "id": "70635142",
   "metadata": {},
   "source": [
    "#### 5. Create a function that returns True if two lines rhyme and False otherwise. For the purposes of this exercise, two lines rhyme if the last word from each sentence contains the same vowels.\n",
    "**Examples:**   \n",
    "`does_rhyme(\"Sam I am!\", \"Green eggs and ham.\") ➞ True`  \n",
    "`does_rhyme(\"Sam I am!\", \"Green eggs and HAM.\") ➞ True`   \n",
    "`# Capitalization and punctuation should not matter.`  \n",
    "`does_rhyme(\"You are off to the races\", \"a splendid day.\") ➞ False`  \n",
    "`does_rhyme(\"and frequently do?\", \"you gotta move.\") ➞ False`  "
   ]
  },
  {
   "cell_type": "code",
   "execution_count": 5,
   "id": "814bbf44",
   "metadata": {},
   "outputs": [
    {
     "name": "stdout",
     "output_type": "stream",
     "text": [
      "does_rhyme('Sam I am!', 'Green eggs and ham.') ➞ True\n",
      "does_rhyme('Sam I am!', 'Green eggs and HAM.') ➞ True\n",
      "does_rhyme('You are off to the races', 'a splendid day.') ➞ False\n",
      "does_rhyme('and frequently do?', 'you gotta move.') ➞ False\n"
     ]
    }
   ],
   "source": [
    "def does_rhyme(in_one,in_two):\n",
    "    vowels = 'aeiou'\n",
    "    output= False\n",
    "    in_one_rhyme = [x.lower() for x in in_one.split(\" \")[-1] if x.lower() in vowels]\n",
    "    in_two_rhyme = [x.lower() for x in in_two.split(\" \")[-1] if x.lower() in vowels]\n",
    "    if in_one_rhyme == in_two_rhyme:\n",
    "        output = True\n",
    "    print(f'does_rhyme{in_one,in_two} ➞ {output}')\n",
    "    \n",
    "does_rhyme(\"Sam I am!\", \"Green eggs and ham.\")\n",
    "does_rhyme(\"Sam I am!\", \"Green eggs and HAM.\")\n",
    "does_rhyme(\"You are off to the races\", \"a splendid day.\")\n",
    "does_rhyme(\"and frequently do?\", \"you gotta move.\")"
   ]
  }
 ],
 "metadata": {
  "kernelspec": {
   "display_name": "Python 3",
   "language": "python",
   "name": "python3"
  },
  "language_info": {
   "codemirror_mode": {
    "name": "ipython",
    "version": 3
   },
   "file_extension": ".py",
   "mimetype": "text/x-python",
   "name": "python",
   "nbconvert_exporter": "python",
   "pygments_lexer": "ipython3",
   "version": "3.8.8"
  }
 },
 "nbformat": 4,
 "nbformat_minor": 5
}
