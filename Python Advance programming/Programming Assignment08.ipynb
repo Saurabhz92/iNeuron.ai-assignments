{
 "cells": [
  {
   "cell_type": "markdown",
   "id": "0bae8037",
   "metadata": {},
   "source": [
    "# Assignment 08 "
   ]
  },
  {
   "cell_type": "markdown",
   "id": "9af2cc2c",
   "metadata": {},
   "source": [
    "#### 1. Given a sentence as txt, return True if any two adjacent words have this property: One word ends with a vowel, while the word immediately after begins with a vowel (a e i o u).\n",
    "**Examples:**   \n",
    "`vowel_links(\"a very large appliance\") ➞ True`  \n",
    "`vowel_links(\"go to edabit\") ➞ True`  \n",
    "`vowel_links(\"an open fire\") ➞ False`  \n",
    "`vowel_links(\"a sudden applause\") ➞ False`  "
   ]
  },
  {
   "cell_type": "code",
   "execution_count": 11,
   "id": "d334d210",
   "metadata": {},
   "outputs": [
    {
     "name": "stdout",
     "output_type": "stream",
     "text": [
      "vowel_links(a very large appliance) ➞ True\n",
      "vowel_links(go to edabit) ➞ True\n",
      "vowel_links(an open fire) ➞ False\n",
      "vowel_links(a sudden applause) ➞ False\n"
     ]
    }
   ],
   "source": [
    "\n",
    "def vowel_links(str):\n",
    "    vowels = ['a', 'e', 'i', 'o', 'u']\n",
    "    split=str.split()\n",
    "    start,end,output=False,False,False\n",
    "    for i in range(len(split)):\n",
    "        if split[i][-1] in vowels:\n",
    "            start=True\n",
    "        else:\n",
    "            start=False\n",
    "            \n",
    "        if i+1 < len(split):\n",
    "            if split[i+1][0] in vowels:\n",
    "                end=True\n",
    "            else:\n",
    "                end=False\n",
    "                \n",
    "        else:\n",
    "            end=False\n",
    "        if start == end==True:\n",
    "            output=True\n",
    "            break\n",
    "    print(f'vowel_links({str}) ➞ {output}')\n",
    "                \n",
    "vowel_links(\"a very large appliance\")\n",
    "vowel_links(\"go to edabit\")\n",
    "vowel_links(\"an open fire\")\n",
    "vowel_links(\"a sudden applause\")"
   ]
  },
  {
   "cell_type": "markdown",
   "id": "9fab466a",
   "metadata": {},
   "source": [
    "#### 2. You are given three inputs: a string, one letter, and a second letter. Write a function that returns True if every instance of the first letter occurs before every instance of the second letter.\n",
    "**Examples:**    \n",
    "`first_before_second(\"a rabbit jumps joyfully\", \"a\", \"j\") ➞ True`      \n",
    "`# Every instance of \"a\" occurs before every instance of \"j\".`       \n",
    "\n",
    "`first_before_second(\"knaves knew about waterfalls\", \"k\", \"w\") ➞  True`     \n",
    "\n",
    "`first_before_second(\"happy birthday\", \"a\", \"y\") ➞ False`  \n",
    "`# The \"a\" in \"birthday\" occurs after the \"y\" in \"happy\".`  \n",
    "\n",
    "`first_before_second(\"precarious kangaroos\", \"k\", \"a\") ➞ False`   "
   ]
  },
  {
   "cell_type": "code",
   "execution_count": 2,
   "id": "00b6de59",
   "metadata": {},
   "outputs": [
    {
     "name": "stdout",
     "output_type": "stream",
     "text": [
      "first_before_second_index(a rabbit jumps joyfully, a, j) ➞ True\n",
      "first_before_second_index(knaves knew about waterfalls, k, w) ➞ True\n",
      "first_before_second_index(happy birthday, a, y) ➞ False\n",
      "first_before_second_index(precarious kangaroos, k, a) ➞ False\n",
      "\n",
      "first_before_second_find(a rabbit jumps joyfully, a, j) ➞ True\n",
      "first_before_second_find(knaves knew about waterfalls, k, w) ➞ True\n",
      "first_before_second_find(happy birthday, a, y) ➞ False\n",
      "first_before_second_find(precarious kangaroos, k, a) ➞ False\n"
     ]
    }
   ],
   "source": [
    "# Approach 1 Using index() and() rindex() functions\n",
    "def first_before_second_index(in_string,in_first,in_second):\n",
    "    \n",
    "    last_occur_first = in_string.rindex(in_first)\n",
    "    \n",
    "    first_occur_second = in_string.index(in_second)\n",
    "    \n",
    "    output = True if last_occur_first < first_occur_second else False\n",
    "    \n",
    "    print(f'first_before_second_index({in_string}, {in_first}, {in_second}) ➞ {output}')\n",
    "\n",
    "# Approach 2 Using find() and() rfind() functions\n",
    "def first_before_second_find(in_string,in_first,in_second):\n",
    "    \n",
    "    last_occur_first = in_string.rfind(in_first)\n",
    "    \n",
    "    first_occur_second = in_string.find(in_second)\n",
    "    \n",
    "    output = True if last_occur_first < first_occur_second else False\n",
    "    \n",
    "    print(f'first_before_second_find({in_string}, {in_first}, {in_second}) ➞ {output}')\n",
    "\n",
    "first_before_second_index(\"a rabbit jumps joyfully\", \"a\", \"j\")\n",
    "first_before_second_index(\"knaves knew about waterfalls\", \"k\", \"w\")\n",
    "first_before_second_index(\"happy birthday\", \"a\", \"y\")\n",
    "first_before_second_index(\"precarious kangaroos\", \"k\", \"a\")\n",
    "print()\n",
    "first_before_second_find(\"a rabbit jumps joyfully\", \"a\", \"j\")\n",
    "first_before_second_find(\"knaves knew about waterfalls\", \"k\", \"w\")\n",
    "first_before_second_find(\"happy birthday\", \"a\", \"y\")\n",
    "first_before_second_find(\"precarious kangaroos\", \"k\", \"a\")"
   ]
  },
  {
   "cell_type": "markdown",
   "id": "848113ea",
   "metadata": {},
   "source": [
    "#### 3. Create a function that returns the characters from a list or string r on odd or even positions, depending on the specifier s. The specifier will be \"odd\" for items on odd positions (1, 3, 5, ...) and \"even\" for items on even positions (2, 4, 6, ...).\n",
    "**Examples:**   \n",
    "`char_at_pos([2, 4, 6, 8, 10], \"even\") ➞ [4, 8]`  \n",
    "`# 4 & 8 occupy the 2nd & 4th positions`  \n",
    "\n",
    "`char_at_pos(\"EDABIT\", \"odd\") ➞ \"EAI\"`   \n",
    "`# \"E\", \"A\" and \"I\" occupy the 1st, 3rd and 5th positions`  \n",
    "\n",
    "`char_at_pos([\"A\", \"R\", \"B\", \"I\", \"T\", \"R\", \"A\", \"R\", \"I\", \"L\", \"Y\"], \"odd\") ➞ [\"A\", \"B\", \"T\", \"A\", \"I\", \"Y\"]`  "
   ]
  },
  {
   "cell_type": "code",
   "execution_count": 12,
   "id": "22dfe4b4",
   "metadata": {},
   "outputs": [
    {
     "name": "stdout",
     "output_type": "stream",
     "text": [
      "char_at_pos([2, 4, 6, 8, 10], 'even') ➞ [4, 8]\n",
      "char_at_pos('EDABIT', 'odd') ➞ ['E', 'A', 'I']\n",
      "char_at_pos(['A', 'R', 'B', 'I', 'T', 'R', 'A', 'R', 'I', 'L', 'Y'], 'odd') ➞ ['A', 'B', 'T', 'A', 'I', 'Y']\n"
     ]
    }
   ],
   "source": [
    "def char_at_pos(lst,mode):\n",
    "    \n",
    "    out_list = []\n",
    "    \n",
    "    for e in range(len(lst)):\n",
    "        \n",
    "        if mode == 'even' and (e+1)%2 == 0:\n",
    "            out_list.append(lst[e])\n",
    "        \n",
    "        elif mode == 'odd' and (e+1)%2 != 0:\n",
    "            out_list.append(lst[e])            \n",
    "    \n",
    "    print(f'char_at_pos{lst,mode} ➞ {out_list}')\n",
    "        \n",
    "        \n",
    "char_at_pos([2, 4, 6, 8, 10], \"even\")\n",
    "\n",
    "char_at_pos(\"EDABIT\", \"odd\")\n",
    "\n",
    "char_at_pos([\"A\", \"R\", \"B\", \"I\", \"T\", \"R\", \"A\", \"R\", \"I\", \"L\", \"Y\"], \"odd\")"
   ]
  },
  {
   "cell_type": "markdown",
   "id": "e6d53fb2",
   "metadata": {},
   "source": [
    "#### 4. Write a function that returns the greatest common divisor of all list elements. If the greatest common divisor is 1, return 1.\n",
    "**Examples:**   \n",
    "`GCD([10, 20, 40]) ➞ 10`  \n",
    "`GCD([1, 2, 3, 100]) ➞ 1`  \n",
    "`GCD([1024, 192, 2048, 512]) ➞ 64`  "
   ]
  },
  {
   "cell_type": "code",
   "execution_count": 4,
   "id": "94be635c",
   "metadata": {},
   "outputs": [
    {
     "name": "stdout",
     "output_type": "stream",
     "text": [
      "GCD([10, 20, 40]) ➞ 10\n",
      "GCD([1, 2, 3, 100]) ➞ 1\n",
      "GCD([1024, 192, 2048, 512]) ➞ 64\n"
     ]
    }
   ],
   "source": [
    "def GCD(in_list):\n",
    "    \n",
    "    small = min(in_list)\n",
    "    \n",
    "    gcd = -1\n",
    "    \n",
    "    for i in range(1, small+1):\n",
    "        \n",
    "        output = []\n",
    "        \n",
    "        for ele in in_list:\n",
    "            \n",
    "            output.append(ele%i)\n",
    "            \n",
    "        if len(set(output)) == 1 and list(set(output))[0] == 0:\n",
    "            \n",
    "            gcd = i\n",
    "            \n",
    "    print(f'GCD({in_list}) ➞ {gcd}')\n",
    "    \n",
    "GCD([10, 20, 40])\n",
    "GCD([1, 2, 3, 100])\n",
    "GCD([1024, 192, 2048, 512])"
   ]
  },
  {
   "cell_type": "markdown",
   "id": "c1dc0d46",
   "metadata": {},
   "source": [
    "#### 5. A number/string is a palindrome if the digits/characters are the same when read both forward and backward. Examples include \"racecar\" and 12321. Given a positive number n, check if n or the binary representation of n is palindromic. Return the following:\n",
    "\n",
    "- \"Decimal only.\" if only n is a palindrome.\n",
    "- \"Binary only.\" if only the binary representation of n is a palindrome.\n",
    "- \"Decimal and binary.\" if both are palindromes.\n",
    "- \"Neither!\" if neither are palindromes.\n",
    "\n",
    "**Examples:**   \n",
    "\n",
    "`palindrome_type(1306031) ➞ \"Decimal only.\"`   \n",
    "`# decimal = 1306031`   \n",
    "`# binary  = \"100111110110110101111\"`   \n",
    "\n",
    "`palindrome_type(427787) ➞ \"Binary only.\"`   \n",
    "`# decimal = 427787`   \n",
    "`# binary  = \"1101000011100001011\"`   \n",
    "\n",
    "`palindrome_type(313) ➞ \"Decimal and binary.\"`  \n",
    "`# decimal = 313`  \n",
    "`# binary  = 100111001`  \n",
    "\n",
    "`palindrome_type(934) ➞ \"Neither!\"`   \n",
    "`# decimal = 934`  \n",
    "`# binary  = \"1110100110\"`  "
   ]
  },
  {
   "cell_type": "code",
   "execution_count": 5,
   "id": "d49e53e5",
   "metadata": {},
   "outputs": [
    {
     "name": "stdout",
     "output_type": "stream",
     "text": [
      "palindrome(1306031) ➞ Decimal only.\n",
      "palindrome(427787) ➞ Neither!\n",
      "palindrome(313) ➞ Decimal and binary.\n",
      "palindrome(934) ➞ Neither!\n"
     ]
    }
   ],
   "source": [
    "def palindrome_type(in_num):\n",
    "    output = None\n",
    "    \n",
    "    if str(in_num) == str(in_num)[::-1] and str(bin(in_num)[2:]) == str(bin(in_num)[2:])[::-1]:\n",
    "        output = 'Decimal and binary.'\n",
    "    \n",
    "    elif str(in_num) == str(in_num)[::-1] and str(bin(in_num)[2:]) != str(bin(in_num)[2:])[::-1]:\n",
    "        output = 'Decimal only.'\n",
    "    \n",
    "    elif str(bin(in_num)[2:]) != str(bin(in_num)[2:])[::-1] and str(in_num) == str(in_num)[::-1]:\n",
    "        output = 'Binary only.'\n",
    "    \n",
    "    else:\n",
    "        output = 'Neither!'\n",
    "    \n",
    "    print(f'palindrome({in_num}) ➞ {output}')\n",
    "\n",
    "palindrome_type(1306031)\n",
    "palindrome_type(427787)\n",
    "palindrome_type(313)\n",
    "palindrome_type(934)"
   ]
  }
 ],
 "metadata": {
  "kernelspec": {
   "display_name": "Python 3",
   "language": "python",
   "name": "python3"
  },
  "language_info": {
   "codemirror_mode": {
    "name": "ipython",
    "version": 3
   },
   "file_extension": ".py",
   "mimetype": "text/x-python",
   "name": "python",
   "nbconvert_exporter": "python",
   "pygments_lexer": "ipython3",
   "version": "3.8.8"
  }
 },
 "nbformat": 4,
 "nbformat_minor": 5
}
