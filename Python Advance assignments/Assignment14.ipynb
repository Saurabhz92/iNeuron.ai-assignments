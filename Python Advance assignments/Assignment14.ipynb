{
 "cells": [
  {
   "cell_type": "markdown",
   "id": "57326cf6",
   "metadata": {},
   "source": [
    "# Assignment 14 "
   ]
  },
  {
   "cell_type": "markdown",
   "id": "642bede4",
   "metadata": {},
   "source": [
    "#### Q1. Is an assignment operator like += only for show? Is it possible that it would lead to faster results at the runtime ?\n",
    "**Ans:** **\n",
    "python += operator add a value in a variable and assign a final value to a variable in other word for example `A=A+1`** evaluates to finding `A`, adding 1 to it. Then storing the value again in variable `A`. This expression makes Python to look for memory holder of a twice. But `A+=1` simply means value of `A` is to incremented by 1. As memory address has to be identified once, `+=` leads to faster operation. \n"
   ]
  },
  {
   "cell_type": "markdown",
   "id": "edf5ed8a",
   "metadata": {},
   "source": [
    "#### Q2. What is the smallest no of statements you'd have to write in most programming languages to replace the Python expr **`a, b = a + b, a`** ?\n",
    "**Ans:**\n",
    "first we defined the variable a and b then we concadenate in variable b it will store as a new id. "
   ]
  },
  {
   "cell_type": "markdown",
   "id": "97a99e30",
   "metadata": {},
   "source": [
    "#### Q3. In Python, what is the most effective way to set a list of 100 integers to 0?\n",
    "**Ans:**"
   ]
  },
  {
   "cell_type": "code",
   "execution_count": 1,
   "id": "a7c86339",
   "metadata": {},
   "outputs": [
    {
     "name": "stdout",
     "output_type": "stream",
     "text": [
      "[0, 0, 0, 0, 0, 0, 0, 0, 0, 0, 0, 0, 0, 0, 0, 0, 0, 0, 0, 0, 0, 0, 0, 0, 0, 0, 0, 0, 0, 0, 0, 0, 0, 0, 0, 0, 0, 0, 0, 0, 0, 0, 0, 0, 0, 0, 0, 0, 0, 0, 0, 0, 0, 0, 0, 0, 0, 0, 0, 0, 0, 0, 0, 0, 0, 0, 0, 0, 0, 0, 0, 0, 0, 0, 0, 0, 0, 0, 0, 0, 0, 0, 0, 0, 0, 0, 0, 0, 0, 0, 0, 0, 0, 0, 0, 0, 0, 0, 0, 0]\n",
      "[0, 0, 0, 0, 0, 0, 0, 0, 0, 0, 0, 0, 0, 0, 0, 0, 0, 0, 0, 0, 0, 0, 0, 0, 0, 0, 0, 0, 0, 0, 0, 0, 0, 0, 0, 0, 0, 0, 0, 0, 0, 0, 0, 0, 0, 0, 0, 0, 0, 0, 0, 0, 0, 0, 0, 0, 0, 0, 0, 0, 0, 0, 0, 0, 0, 0, 0, 0, 0, 0, 0, 0, 0, 0, 0, 0, 0, 0, 0, 0, 0, 0, 0, 0, 0, 0, 0, 0, 0, 0, 0, 0, 0, 0, 0, 0, 0, 0, 0, 0]\n"
     ]
    }
   ],
   "source": [
    "# Method 1\n",
    "list_zeros=[0]*100\n",
    "print(list_zeros)\n",
    "\n",
    "\n",
    "# Method 2\n",
    "zeros_list = [0 for x in range(100)]\n",
    "print(zeros_list)"
   ]
  },
  {
   "cell_type": "markdown",
   "id": "59d2dc95",
   "metadata": {},
   "source": [
    "#### Q4. What is the most effective way to initialise a list of 99 integers that repeats the sequence 1, 2, 3? S If necessary, show step-by-step instructions on how to accomplish this."
   ]
  },
  {
   "cell_type": "code",
   "execution_count": 5,
   "id": "1431f7a8",
   "metadata": {},
   "outputs": [
    {
     "name": "stdout",
     "output_type": "stream",
     "text": [
      "[1, 2, 3, 1, 2, 3, 1, 2, 3, 1, 2, 3, 1, 2, 3, 1, 2, 3, 1, 2, 3, 1, 2, 3, 1, 2, 3, 1, 2, 3, 1, 2, 3, 1, 2, 3, 1, 2, 3, 1, 2, 3, 1, 2, 3, 1, 2, 3, 1, 2, 3, 1, 2, 3, 1, 2, 3, 1, 2, 3, 1, 2, 3, 1, 2, 3, 1, 2, 3, 1, 2, 3, 1, 2, 3, 1, 2, 3, 1, 2, 3, 1, 2, 3, 1, 2, 3, 1, 2, 3, 1, 2, 3, 1, 2, 3, 1, 2, 3]\n"
     ]
    },
    {
     "data": {
      "text/plain": [
       "[[1, 2, 3],\n",
       " [1, 2, 3],\n",
       " [1, 2, 3],\n",
       " [1, 2, 3],\n",
       " [1, 2, 3],\n",
       " [1, 2, 3],\n",
       " [1, 2, 3],\n",
       " [1, 2, 3],\n",
       " [1, 2, 3],\n",
       " [1, 2, 3],\n",
       " [1, 2, 3],\n",
       " [1, 2, 3],\n",
       " [1, 2, 3],\n",
       " [1, 2, 3],\n",
       " [1, 2, 3],\n",
       " [1, 2, 3],\n",
       " [1, 2, 3],\n",
       " [1, 2, 3],\n",
       " [1, 2, 3],\n",
       " [1, 2, 3],\n",
       " [1, 2, 3],\n",
       " [1, 2, 3],\n",
       " [1, 2, 3],\n",
       " [1, 2, 3],\n",
       " [1, 2, 3],\n",
       " [1, 2, 3],\n",
       " [1, 2, 3],\n",
       " [1, 2, 3],\n",
       " [1, 2, 3],\n",
       " [1, 2, 3],\n",
       " [1, 2, 3],\n",
       " [1, 2, 3],\n",
       " [1, 2, 3],\n",
       " [1, 2, 3],\n",
       " [1, 2, 3],\n",
       " [1, 2, 3],\n",
       " [1, 2, 3],\n",
       " [1, 2, 3],\n",
       " [1, 2, 3],\n",
       " [1, 2, 3],\n",
       " [1, 2, 3],\n",
       " [1, 2, 3],\n",
       " [1, 2, 3],\n",
       " [1, 2, 3],\n",
       " [1, 2, 3],\n",
       " [1, 2, 3],\n",
       " [1, 2, 3],\n",
       " [1, 2, 3],\n",
       " [1, 2, 3],\n",
       " [1, 2, 3],\n",
       " [1, 2, 3],\n",
       " [1, 2, 3],\n",
       " [1, 2, 3],\n",
       " [1, 2, 3],\n",
       " [1, 2, 3],\n",
       " [1, 2, 3],\n",
       " [1, 2, 3],\n",
       " [1, 2, 3],\n",
       " [1, 2, 3],\n",
       " [1, 2, 3],\n",
       " [1, 2, 3],\n",
       " [1, 2, 3],\n",
       " [1, 2, 3],\n",
       " [1, 2, 3],\n",
       " [1, 2, 3],\n",
       " [1, 2, 3],\n",
       " [1, 2, 3],\n",
       " [1, 2, 3],\n",
       " [1, 2, 3],\n",
       " [1, 2, 3],\n",
       " [1, 2, 3],\n",
       " [1, 2, 3],\n",
       " [1, 2, 3],\n",
       " [1, 2, 3],\n",
       " [1, 2, 3],\n",
       " [1, 2, 3],\n",
       " [1, 2, 3],\n",
       " [1, 2, 3],\n",
       " [1, 2, 3],\n",
       " [1, 2, 3],\n",
       " [1, 2, 3],\n",
       " [1, 2, 3],\n",
       " [1, 2, 3],\n",
       " [1, 2, 3],\n",
       " [1, 2, 3],\n",
       " [1, 2, 3],\n",
       " [1, 2, 3],\n",
       " [1, 2, 3],\n",
       " [1, 2, 3],\n",
       " [1, 2, 3],\n",
       " [1, 2, 3],\n",
       " [1, 2, 3],\n",
       " [1, 2, 3],\n",
       " [1, 2, 3],\n",
       " [1, 2, 3],\n",
       " [1, 2, 3],\n",
       " [1, 2, 3],\n",
       " [1, 2, 3],\n",
       " [1, 2, 3]]"
      ]
     },
     "execution_count": 5,
     "metadata": {},
     "output_type": "execute_result"
    }
   ],
   "source": [
    "my_list = [1,2,3]*33\n",
    "print(my_list)\n",
    "#method 2\n",
    "list=[[1,2,3] for x in range(1,100)]\n",
    "list"
   ]
  },
  {
   "cell_type": "markdown",
   "id": "70c890ab",
   "metadata": {},
   "source": [
    "#### Q5. If you're using IDLE to run a Python application, explain how to print a multidimensional list as efficiently?"
   ]
  },
  {
   "cell_type": "code",
   "execution_count": 9,
   "id": "7e38a603",
   "metadata": {},
   "outputs": [
    {
     "name": "stdout",
     "output_type": "stream",
     "text": [
      "5\n",
      "1 1 2 2 3 3 4 4 5 5 "
     ]
    }
   ],
   "source": [
    "my_list = [[1,1],[2,2],[3,3],[4,4],[5,5]] # 2 dimensional List\n",
    "print(len(my_list))\n",
    "\n",
    "for x in range(len(my_list)):\n",
    "    for y in range(len(my_list[x])):\n",
    "        print(my_list[x][y],end=\" \")"
   ]
  },
  {
   "cell_type": "markdown",
   "id": "1b0c598e",
   "metadata": {},
   "source": [
    "#### Q6. Is it possible to use list comprehension with a string? If so, how can you go about doing it?\n",
    "**Ans:** List comprehension with string is possible."
   ]
  },
  {
   "cell_type": "code",
   "execution_count": 10,
   "id": "157a00f7",
   "metadata": {},
   "outputs": [
    {
     "name": "stdout",
     "output_type": "stream",
     "text": [
      "['s', 'a', 'u', 'r', 'a', 'b', 'h']\n"
     ]
    }
   ],
   "source": [
    "my_list = [ele for ele in 'saurabh']\n",
    "\n",
    "print(my_list)"
   ]
  },
  {
   "cell_type": "markdown",
   "id": "80883d2f",
   "metadata": {},
   "source": [
    "#### Q7. From the command line, how do you get support with a user-written Python programme? Is this possible from inside IDLE?\n",
    "\n",
    "**Ans:**  **Get support with a user-written Python Programme:** \n",
    "open a command prompt and see the present working directory if it is not same path as where you saved your programme file then you need to change the directory to that folder where you saved the programme then you can simply specify the filename as command-line argument to the python interpreter.\n",
    "\n",
    "**Get support with a User-written Python Program from IDLE:**\n",
    "You can also create script files and run them in IDLE. From the Shell window menu, select **`File → New File`**. That should open an additional editing window. Type in the code to be executed. From the menu in that window, **`select File → Save or File → Save As…`** and save the file to disk. Then **`select Run → Run Module`**. The output should appear back in the interpreter"
   ]
  },
  {
   "cell_type": "markdown",
   "id": "524994b9",
   "metadata": {},
   "source": [
    "#### Q8. Functions are said to be “first-class objects” in Python but not in most other languages, such as C++ or Java. What can you do in Python with a function (callable object) that you can't do in C or C++?\n",
    "**Ans:** The tasks which can be performed with the functions in python are: \n",
    "- A function is an instance of the Object type.\n",
    "- You can store the function in a variable. \n",
    "- You can pass the function as a parameter to another function.\n",
    "- You can return the function from a function.\n",
    "- You can store them in data structures such as hash tables, lists, "
   ]
  },
  {
   "cell_type": "markdown",
   "id": "05b83463",
   "metadata": {},
   "source": [
    "#### Q9. How do you distinguish between a wrapper, a wrapped feature, and a decorator?\n",
    "**Ans:** Decorators allow us to wrap another function in order to extend the behavior of the wrapped function, without permanently modifying it. In Decorators, functions are taken as the argument into another function and then called inside the wrapper function. Wrappers Around the functions are known as Decorators."
   ]
  },
  {
   "cell_type": "markdown",
   "id": "20f9a8cc",
   "metadata": {},
   "source": [
    "#### Q10. If a function is a generator function, what does it return?\n",
    "**Ans:** generator function return yield,Once the function `yields`, the function is paused and the control is transferred to the caller.Local variables and their states are remembered between successive calls.Finally, when the function terminates, StopIteration is raised automatically on further calls.but in `for loop` it itrates all itrator once when it executed."
   ]
  },
  {
   "cell_type": "markdown",
   "id": "03ee7d27",
   "metadata": {},
   "source": [
    "#### Q11. What is the one improvement that must be made to a function in order for it to become a generator function in the Python language?\n",
    "\n",
    "**Ans:** Generator is a written as normal function but uses **`yield`** keyword to return values instead of **`return`** keyword."
   ]
  },
  {
   "cell_type": "markdown",
   "id": "ceae1939",
   "metadata": {},
   "source": [
    "#### Q12. Identify at least one benefit of generators.\n",
    "**Ans:** **`return`** statement sends a specified value back to its caller whereas **`yield`** statment can produce a sequence of values. We should use generator when we want to iterate over a sequence, but don’t want to store the entire sequence in memory."
   ]
  }
 ],
 "metadata": {
  "kernelspec": {
   "display_name": "Python 3",
   "language": "python",
   "name": "python3"
  },
  "language_info": {
   "codemirror_mode": {
    "name": "ipython",
    "version": 3
   },
   "file_extension": ".py",
   "mimetype": "text/x-python",
   "name": "python",
   "nbconvert_exporter": "python",
   "pygments_lexer": "ipython3",
   "version": "3.8.8"
  }
 },
 "nbformat": 4,
 "nbformat_minor": 5
}
