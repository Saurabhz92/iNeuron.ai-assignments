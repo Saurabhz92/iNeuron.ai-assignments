{
 "cells": [
  {
   "cell_type": "markdown",
   "id": "56306a9b",
   "metadata": {},
   "source": [
    "# Assignment 07 "
   ]
  },
  {
   "cell_type": "markdown",
   "id": "890ac6ef",
   "metadata": {},
   "source": [
    "#### Q1. What is the purpose of the try statement?\n",
    "**Ans:** **`try`** statement is used for exception handling in python. The try statement allows you to define a block of code to be tested for errors while it is being executed"
   ]
  },
  {
   "cell_type": "code",
   "execution_count": 1,
   "id": "72d89888",
   "metadata": {},
   "outputs": [
    {
     "name": "stdout",
     "output_type": "stream",
     "text": [
      "Division by Zero is Not Possible\n"
     ]
    }
   ],
   "source": [
    "try:\n",
    "    print(10/0)\n",
    "except ZeroDivisionError:\n",
    "    print('Division by Zero is Not Possible')"
   ]
  },
  {
   "cell_type": "markdown",
   "id": "4edfb2b6",
   "metadata": {},
   "source": [
    "#### Q2. What are the two most popular try statement variations?\n",
    "**Ans:** The Popular try statement variations are:\n",
    "1. **`try`,`except`**\n",
    "2. **`try`,`except`,`finally`**\n",
    "3. **`try`,`except`,`finally`,`else`**\n",
    "\n",
    "The **`try`** block lets you test a block of code for errors.\n",
    "\n",
    "The **`except`** block lets you handle the error.\n",
    "\n",
    "The **`else`** block lets you execute code when there is no error.\n",
    "\n",
    "The **`finally`** block lets you execute code, regardless of the result of the try- and except blocks."
   ]
  },
  {
   "cell_type": "code",
   "execution_count": null,
   "id": "3c96dc41",
   "metadata": {},
   "outputs": [],
   "source": []
  },
  {
   "cell_type": "markdown",
   "id": "c39b56b0",
   "metadata": {},
   "source": [
    "#### Q3. What is the purpose of the raise statement?\n",
    "**Ans:** **`raise`** keyword is used to raise an exception. You can define what kind of error to raise, and the text to print to the user."
   ]
  },
  {
   "cell_type": "code",
   "execution_count": 2,
   "id": "6095bed8",
   "metadata": {},
   "outputs": [
    {
     "ename": "Exception",
     "evalue": "only integer is allowed",
     "output_type": "error",
     "traceback": [
      "\u001b[1;31m---------------------------------------------------------------------------\u001b[0m",
      "\u001b[1;31mException\u001b[0m                                 Traceback (most recent call last)",
      "\u001b[1;32m<ipython-input-2-73ebdfc8276d>\u001b[0m in \u001b[0;36m<module>\u001b[1;34m\u001b[0m\n\u001b[0;32m      1\u001b[0m \u001b[0mx\u001b[0m\u001b[1;33m=\u001b[0m\u001b[1;34m\"hello\"\u001b[0m\u001b[1;33m\u001b[0m\u001b[1;33m\u001b[0m\u001b[0m\n\u001b[0;32m      2\u001b[0m \u001b[1;32mif\u001b[0m \u001b[0mtype\u001b[0m\u001b[1;33m(\u001b[0m\u001b[0mx\u001b[0m\u001b[1;33m)\u001b[0m \u001b[1;32mis\u001b[0m \u001b[0mstr\u001b[0m\u001b[1;33m:\u001b[0m\u001b[1;33m\u001b[0m\u001b[1;33m\u001b[0m\u001b[0m\n\u001b[1;32m----> 3\u001b[1;33m     \u001b[1;32mraise\u001b[0m \u001b[0mException\u001b[0m\u001b[1;33m(\u001b[0m\u001b[1;34m\"only integer is allowed\"\u001b[0m\u001b[1;33m)\u001b[0m\u001b[1;33m\u001b[0m\u001b[1;33m\u001b[0m\u001b[0m\n\u001b[0m",
      "\u001b[1;31mException\u001b[0m: only integer is allowed"
     ]
    }
   ],
   "source": [
    "x=\"hello\"\n",
    "if type(x) is str:\n",
    "    raise Exception(\"only integer is allowed\")"
   ]
  },
  {
   "cell_type": "markdown",
   "id": "2ea68550",
   "metadata": {},
   "source": [
    "#### Q4. What does the assert statement do, and what other statement is it like?\n",
    "**Ans:** There are few assertions that programmer always want to be true to avoid code failure. This type of requirement is fulfilled by **`assert`** statement. This statement takes a boolean condition output of which is True, Further Program Executes. if output of assert statement is False, it raises an Assertion Error."
   ]
  },
  {
   "cell_type": "code",
   "execution_count": 3,
   "id": "6df3fe6c",
   "metadata": {},
   "outputs": [],
   "source": [
    "#if given condition is true in assert statement then assertation error not occures\n",
    "x=10\n",
    "y=20\n",
    "z=x+y\n",
    "assert(z==30 ),f'error'"
   ]
  },
  {
   "cell_type": "code",
   "execution_count": 9,
   "id": "840b4f03",
   "metadata": {},
   "outputs": [
    {
     "ename": "AssertionError",
     "evalue": "z is equal to 30 it should not be equal to 30",
     "output_type": "error",
     "traceback": [
      "\u001b[1;31m---------------------------------------------------------------------------\u001b[0m",
      "\u001b[1;31mAssertionError\u001b[0m                            Traceback (most recent call last)",
      "\u001b[1;32m<ipython-input-9-2be74bea0348>\u001b[0m in \u001b[0;36m<module>\u001b[1;34m\u001b[0m\n\u001b[0;32m      3\u001b[0m \u001b[0my\u001b[0m\u001b[1;33m=\u001b[0m\u001b[1;36m20\u001b[0m\u001b[1;33m\u001b[0m\u001b[1;33m\u001b[0m\u001b[0m\n\u001b[0;32m      4\u001b[0m \u001b[0mz\u001b[0m\u001b[1;33m=\u001b[0m\u001b[0mx\u001b[0m\u001b[1;33m+\u001b[0m\u001b[0my\u001b[0m\u001b[1;33m\u001b[0m\u001b[1;33m\u001b[0m\u001b[0m\n\u001b[1;32m----> 5\u001b[1;33m \u001b[1;32massert\u001b[0m\u001b[1;33m(\u001b[0m\u001b[0mz\u001b[0m\u001b[1;33m!=\u001b[0m\u001b[1;36m30\u001b[0m\u001b[1;33m)\u001b[0m\u001b[1;33m,\u001b[0m\u001b[1;34m\"z is equal to 30 it should not be equal to 30\"\u001b[0m\u001b[1;33m\u001b[0m\u001b[1;33m\u001b[0m\u001b[0m\n\u001b[0m",
      "\u001b[1;31mAssertionError\u001b[0m: z is equal to 30 it should not be equal to 30"
     ]
    }
   ],
   "source": [
    "# if given condition is false in assert statement then assertation error display.\n",
    "x=10\n",
    "y=20\n",
    "z=x+y\n",
    "assert(z!=30),\"z is equal to 30 it should not be equal to 30\""
   ]
  },
  {
   "cell_type": "markdown",
   "id": "1cc50d65",
   "metadata": {},
   "source": [
    "#### Q5. What is the purpose of the with/as argument, and what other statement is it like?\n",
    "**Ans:** **`with/as`** statement simplifies use of file handling in python. \n",
    "with statement in Python is used in exception handling to make the code cleaner and much more readable. It simplifies the management of common resources like file streams. \n",
    "\n",
    "When we use a **`with`** statement for file reading, there is no need for programmer to explicitly takecare of activities like resource deallocation and file closing by using file.close() method. \n",
    "\n",
    "**`with`** statement itself ensures proper acquisition and release of resources. this avoids triggering of exceptions if file closing is unknowingly forgotten in the code execution.\n",
    "\n",
    "`with open('sample_file.txt','w') as file:\n",
    "    file.write('Hello World')`"
   ]
  }
 ],
 "metadata": {
  "kernelspec": {
   "display_name": "Python 3",
   "language": "python",
   "name": "python3"
  },
  "language_info": {
   "codemirror_mode": {
    "name": "ipython",
    "version": 3
   },
   "file_extension": ".py",
   "mimetype": "text/x-python",
   "name": "python",
   "nbconvert_exporter": "python",
   "pygments_lexer": "ipython3",
   "version": "3.8.8"
  }
 },
 "nbformat": 4,
 "nbformat_minor": 5
}
