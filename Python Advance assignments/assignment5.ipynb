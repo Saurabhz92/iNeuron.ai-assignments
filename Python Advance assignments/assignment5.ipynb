{
 "cells": [
  {
   "cell_type": "markdown",
   "id": "a8e2fc40",
   "metadata": {},
   "source": [
    "# Assignment 05 "
   ]
  },
  {
   "cell_type": "markdown",
   "id": "3ae2f846",
   "metadata": {},
   "source": [
    "#### Q1. What is the meaning of multiple inheritance?\n",
    "**Ans:** When a class is derived from more than one base class it is called **`Multiple Inheritance`**. The derived class inherits all the features of the base case."
   ]
  },
  {
   "cell_type": "code",
   "execution_count": 1,
   "id": "e8567eae",
   "metadata": {},
   "outputs": [],
   "source": [
    "class Parent_one:\n",
    "    pass\n",
    "class Parent_two:\n",
    "    pass\n",
    "class child(Parent_one,Parent_two):\n",
    "    pass"
   ]
  },
  {
   "cell_type": "markdown",
   "id": "38440f4c",
   "metadata": {},
   "source": [
    "#### Q2. What is the concept of delegation?\n",
    "**Ans:** Delegation provides a proxy object for any class thay you want on top of the main class. its like a wrapper to your class so that you can access limited resources of the main class. we use a main function in parent class as a inheritance in child class so reuseability is happening .Simply Delegation means that you can include a instance of another class as an instance variable, and forward messages to the instance."
   ]
  },
  {
   "cell_type": "code",
   "execution_count": 1,
   "id": "d57e9c12",
   "metadata": {},
   "outputs": [
    {
     "name": "stdout",
     "output_type": "stream",
     "text": [
      "person is saying hi\n",
      "person is saying by\n",
      "person is saying hi\n",
      "person is saying by\n"
     ]
    }
   ],
   "source": [
    "class person():\n",
    "    def sayhi(self):\n",
    "        print(\"person is saying hi\")\n",
    "    def sayby(self):\n",
    "        print(\"person is saying by\")\n",
    "\n",
    "class employee():\n",
    "    def __init__(self,object):\n",
    "        self.main=object\n",
    "    def welcome(self):\n",
    "        self.main.sayhi()\n",
    "\n",
    "m=person()       \n",
    "n=employee(m)\n",
    "\n",
    "m.sayhi()\n",
    "m.sayby()\n",
    "n.main.sayhi()\n",
    "n.main.sayby()"
   ]
  },
  {
   "cell_type": "markdown",
   "id": "4600a4d4",
   "metadata": {},
   "source": [
    "#### Q3. What is the concept of composition?\n",
    "**Ans:** Composition is a concept that models a has a relationship. It enables creating complex types by combining objects of other types. This means that a class Composite can contain an object of another class Component . This relationship means that a Composite has a Component .\n",
    "In the concept of Composition, a class refers to one or more other classes by using instances of those classes as a instance variable. irrespective of inheritence in this approach all the parent class members are not inherited into child class, but only required methods from a class are used by using class instances."
   ]
  },
  {
   "cell_type": "code",
   "execution_count": 2,
   "id": "7e779e32",
   "metadata": {},
   "outputs": [
    {
     "name": "stdout",
     "output_type": "stream",
     "text": [
      "Total Salary : 1200\n"
     ]
    }
   ],
   "source": [
    "class Salary:\n",
    "    def __init__(self,pay):\n",
    "        self.pay = pay\n",
    "    def get_total(self):\n",
    "        return self.pay*12\n",
    "    \n",
    "class Employee:\n",
    "    def __init__(self,pay,bonus):\n",
    "        self.pay = pay\n",
    "        self.bonus = bonus\n",
    "        self.obj_salary = Salary(self.pay)\n",
    "    def annual_salary(self):\n",
    "        return f'Total Salary : {str(self.obj_salary.get_total())}'\n",
    "\n",
    "obj_emp = Employee(100,500)\n",
    "print(obj_emp.annual_salary())"
   ]
  },
  {
   "cell_type": "markdown",
   "id": "ce7913c2",
   "metadata": {},
   "source": [
    "#### Q4. What are bound methods and how do we use them?\n",
    "**Ans:** A bound method is the one which is dependent on the instance of the class as the first argument. It passes the instance as the first argument which is used to access the variables and functions. A bound method is one that has **`self`** as its first argument. Since these are dependent on the instance of classes, these are also known as **instance methods**."
   ]
  },
  {
   "cell_type": "code",
   "execution_count": 8,
   "id": "dc8b18a8",
   "metadata": {},
   "outputs": [
    {
     "name": "stdout",
     "output_type": "stream",
     "text": [
      "Called method_one\n",
      "Called method_two\n",
      "Called method_two\n",
      "Called method_three\n"
     ]
    }
   ],
   "source": [
    "class Test:\n",
    "    def method_one(self): # bound method\n",
    "        print(\"Called method_one\")\n",
    "    @classmethod\n",
    "    def method_two(cls): # unbound method\n",
    "        print(\"Called method_two\")\n",
    "    @staticmethod\n",
    "    def method_three(): # static method\n",
    "        print(\"Called method_three\")\n",
    "\n",
    "test = Test()\n",
    "test.method_one() # accessing through instance object\n",
    "test.method_two() # accessing through instance object\n",
    "Test.method_two()# accessing directly through class\n",
    "Test.method_three() # accessing directly through class"
   ]
  },
  {
   "cell_type": "markdown",
   "id": "04f059af",
   "metadata": {},
   "source": [
    "#### Q5. What is the purpose of pseudoprivate attributes?\n",
    "**Ans:** Pseudoprivate attributes are also useful in larger frameworks or tools, both to avoid introducing new method names that might accidentally hide definitions elsewhere in the class tree and to reduce the chance of internal methods being replaced by names defined lower in the tree. If a method is intended for use only within a class that may be mixed into other classes, the double underscore prefix ensures that the method won't interfere with other names in the tree, especially in multiple-inheritance scenarios\n",
    "\n",
    "Pseudoprivate names also prevent subclasses from accidentally redefining the internal method's names,"
   ]
  },
  {
   "cell_type": "code",
   "execution_count": 11,
   "id": "6710d4ea",
   "metadata": {},
   "outputs": [],
   "source": [
    "class Super:\n",
    "    def method(self): # A real application method\n",
    "        pass\n",
    "\n",
    "class Tool:\n",
    "    def _method(self): # becomes _Tool_method\n",
    "        pass\n",
    "    def other(self): # uses internal method\n",
    "        self._method()\n",
    "        \n",
    "class Subl(Tool,Super):\n",
    "    def actions(self):\n",
    "        self.method()\n",
    "\n",
    "class Sub2(Tool):\n",
    "    def __init__(self):\n",
    "        self.method = 99"
   ]
  },
  {
   "cell_type": "code",
   "execution_count": null,
   "id": "bc1a4bd9",
   "metadata": {},
   "outputs": [],
   "source": []
  }
 ],
 "metadata": {
  "kernelspec": {
   "display_name": "Python 3",
   "language": "python",
   "name": "python3"
  },
  "language_info": {
   "codemirror_mode": {
    "name": "ipython",
    "version": 3
   },
   "file_extension": ".py",
   "mimetype": "text/x-python",
   "name": "python",
   "nbconvert_exporter": "python",
   "pygments_lexer": "ipython3",
   "version": "3.8.8"
  }
 },
 "nbformat": 4,
 "nbformat_minor": 5
}
