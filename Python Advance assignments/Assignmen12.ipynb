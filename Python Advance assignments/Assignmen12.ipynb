{
 "cells": [
  {
   "cell_type": "markdown",
   "id": "b7b2ee9a",
   "metadata": {},
   "source": [
    "# Assignment 12 "
   ]
  },
  {
   "cell_type": "markdown",
   "id": "096440ca",
   "metadata": {},
   "source": [
    "#### Q1. Does assigning a value to a string's indexed character violate Python's string immutability ?\n",
    "**Ans:**  it is a immuatable it cannot be assigned to a new value to a string.as like string is **immuatable** \n",
    "`Example: `  \n",
    "`name = \"saurabh\"`  \n",
    "`print(id(name)) #7347002142`  \n",
    "`name[0] = \"a\" # Raises TypeError`  "
   ]
  },
  {
   "cell_type": "markdown",
   "id": "b16a1f3f",
   "metadata": {},
   "source": [
    "#### Q2. Does using the += operator to concatenate strings violate Python's string immutability? Why or why not ?\n",
    "**Ans:**  **`+=`** operator is used to concatenate strings, it does not violate Python’s string immutability Property.\n",
    "Because doing so new creates a new association with data and variable.\n",
    "E.g. `name=\"saurabh\"` and `name+=\"zanjurne`. effect of this statements to create string `ab` and reassign it to variable `name`, any string data is not actually modified. "
   ]
  },
  {
   "cell_type": "code",
   "execution_count": 1,
   "id": "85e75136",
   "metadata": {},
   "outputs": [
    {
     "name": "stdout",
     "output_type": "stream",
     "text": [
      "1114786243120\n",
      "1114786244784\n"
     ]
    }
   ],
   "source": [
    "name= \"saurabh\"\n",
    "print(id(name))\n",
    "\n",
    "name+=\"zanjurne\"\n",
    "print(id(name))# Does not Modify existing string, Creates a New String Object"
   ]
  },
  {
   "cell_type": "markdown",
   "id": "76ec588b",
   "metadata": {},
   "source": [
    "#### Q3. In Python, how many different ways are there to index a character?\n",
    "**Ans:** a single word in a string can be accesed by index no. of word written in square bracket.**Negative Indexing** i.e. last letter is -1 and so on can be used to index a character\n",
    "or,**Positive Indexing** i.e. first index is 0"
   ]
  },
  {
   "cell_type": "code",
   "execution_count": 2,
   "id": "8b363c3b",
   "metadata": {},
   "outputs": [
    {
     "name": "stdout",
     "output_type": "stream",
     "text": [
      "s a u\n",
      "h b a\n"
     ]
    }
   ],
   "source": [
    "string = \"saurabh\"\n",
    "\n",
    "print(string[0],string[1],string[2]) # Positive Indexing\n",
    "\n",
    "print(string[-1],string[-2],string[-3]) # Negative Indexing"
   ]
  },
  {
   "cell_type": "markdown",
   "id": "c3b59e35",
   "metadata": {},
   "source": [
    "#### Q4. What is the relationship between indexing and slicing?\n",
    "**Ans:** We can access elements of sequence datatypes by using slicing and indexing. Indexing is used to obtaining individual element while slicing for sequence of elements."
   ]
  },
  {
   "cell_type": "code",
   "execution_count": 5,
   "id": "1da25970",
   "metadata": {},
   "outputs": [
    {
     "name": "stdout",
     "output_type": "stream",
     "text": [
      "s a u\n",
      "saura\n"
     ]
    }
   ],
   "source": [
    "\n",
    "string = \"saurabh\"\n",
    "\n",
    "print(string[0],string[1],string[2])# Indexing\n",
    "\n",
    "print(string[0:5]) # Slicing"
   ]
  },
  {
   "cell_type": "markdown",
   "id": "a942747b",
   "metadata": {},
   "source": [
    "#### Q5. What is an indexed character's exact data type? What is the data form of a slicing-generated substring?\n",
    "**Ans:** Indexed characters and sliced substrings have datatype **String**. "
   ]
  },
  {
   "cell_type": "code",
   "execution_count": 6,
   "id": "20fe9f03",
   "metadata": {},
   "outputs": [
    {
     "name": "stdout",
     "output_type": "stream",
     "text": [
      "<class 'str'>\n",
      "<class 'str'>\n"
     ]
    }
   ],
   "source": [
    "string = \"iNeuron Full Stack Data Science\"\n",
    "\n",
    "print(type(string[3])) # Indexing -> str\n",
    "\n",
    "print(type(string[1:10])) # Indexing -> str"
   ]
  },
  {
   "cell_type": "markdown",
   "id": "2b61703e",
   "metadata": {},
   "source": [
    "#### Q6. What is the relationship between string and character \"types\" in Python?\n",
    "**Ans:** Object that contains sequence of character datatypes are called String."
   ]
  },
  {
   "cell_type": "markdown",
   "id": "7c5362fc",
   "metadata": {},
   "source": [
    "#### Q7. Identify at least two operators & one method that allow you to combine one or more smaller strings to create a larger string ?\n",
    "**Ans:** **`+`**, **`+=`** and **`*`** allow to combine one or more smaller strings to create a larger string. **`<string>.join(<sep>)`** method joins element of iterable type like list and tuple to get a combined string. "
   ]
  },
  {
   "cell_type": "code",
   "execution_count": 7,
   "id": "064b196f",
   "metadata": {},
   "outputs": [
    {
     "name": "stdout",
     "output_type": "stream",
     "text": [
      "iNeuron Full Stack Data Science_course\n",
      "_course _course _course \n",
      "I N E U R O N\n",
      "i n e u r o n\n"
     ]
    }
   ],
   "source": [
    "string = 'iNeuron '\n",
    "\n",
    "string += 'Full Stack Data Science'\n",
    "\n",
    "print(string + '_course')\n",
    "\n",
    "print('_course '*3)\n",
    "\n",
    "print(\" \".join(['I','N','E','U','R','O','N'])) # List Iterable\n",
    "\n",
    "print(\" \".join(('I','N','E','U','R','O','N')).lower()) # Tuple Iterable"
   ]
  },
  {
   "cell_type": "markdown",
   "id": "f0e842af",
   "metadata": {},
   "source": [
    "#### Q8. What is the benefit of first checking the target string with in or not in before using the index method to find a substring ?\n",
    "**Ans:** Checking the target string with **`in`** or **`not`** Operators before using the index method to find a  substring just helps confirming availability of substring and thus avoid raising of **`ValueError.`**  \n",
    "\n",
    "**`Example:`**    \n",
    "`in_string = \"ineuron\"`  \n",
    "`in_string.index('x') # Raises ValueError`  \n",
    "`in_string.index('u') # 3`  "
   ]
  },
  {
   "cell_type": "markdown",
   "id": "86b6bc76",
   "metadata": {},
   "source": [
    "#### Q9. Which operators and built-in string methods produce simple Boolean (true/false) results?\n",
    "**Ans:** The String Operators and built-in methods to Produce Simple Boolean (True/False) Results are:\n",
    "- **`in`**\n",
    "- **`not`**\n",
    "- **`<string>.isalpha()`**\n",
    "- **`<string>.isalnum()`**\n",
    "- **`<string>.isdecimal()`**\n",
    "- **`<string>.isdigit()`**\n",
    "- **`<string>.islower()`**\n",
    "- **`<string>.isnumeric()`**\n",
    "- **`<string>.isprintable()`**\n",
    "- **`<string>.isspace()`**\n",
    "- **`<string>.istitle()`**"
   ]
  }
 ],
 "metadata": {
  "kernelspec": {
   "display_name": "Python 3",
   "language": "python",
   "name": "python3"
  },
  "language_info": {
   "codemirror_mode": {
    "name": "ipython",
    "version": 3
   },
   "file_extension": ".py",
   "mimetype": "text/x-python",
   "name": "python",
   "nbconvert_exporter": "python",
   "pygments_lexer": "ipython3",
   "version": "3.8.8"
  }
 },
 "nbformat": 4,
 "nbformat_minor": 5
}
