{
 "cells": [
  {
   "cell_type": "markdown",
   "id": "ce6590a1",
   "metadata": {},
   "source": [
    "# Assignment 08 "
   ]
  },
  {
   "cell_type": "markdown",
   "id": "efb72245",
   "metadata": {},
   "source": [
    "#### Q1. What are the two latest user-defined exception constraints in Python 3.X?\n",
    "**Ans:** **`raise`** and **`assert`** are the two latest user-defined exception constraints in Python 3.X"
   ]
  },
  {
   "cell_type": "markdown",
   "id": "f1479448",
   "metadata": {},
   "source": [
    "#### Q2. How are class-based exceptions that have been raised matched to handlers?\n",
    "**Ans:**\n",
    "we can customized exception with creating class and raises directly or indirectly with the help of raise statement This exception class has to be derived, either directly or indirectly from built-in **`Exception`** class. This new exception class like other exceptions can be raised using the **`raise`** statement with an optional error message"
   ]
  },
  {
   "cell_type": "code",
   "execution_count": 4,
   "id": "648a981d",
   "metadata": {},
   "outputs": [
    {
     "ename": "class_based_exception",
     "evalue": "to young for voting",
     "output_type": "error",
     "traceback": [
      "\u001b[1;31m---------------------------------------------------------------------------\u001b[0m",
      "\u001b[1;31mclass_based_exception\u001b[0m                     Traceback (most recent call last)",
      "\u001b[1;32m<ipython-input-4-58b21282d7c5>\u001b[0m in \u001b[0;36m<module>\u001b[1;34m\u001b[0m\n\u001b[0;32m      3\u001b[0m         \u001b[0mself\u001b[0m\u001b[1;33m.\u001b[0m\u001b[0mmsg\u001b[0m\u001b[1;33m=\u001b[0m\u001b[0mmsg\u001b[0m\u001b[1;33m\u001b[0m\u001b[1;33m\u001b[0m\u001b[0m\n\u001b[0;32m      4\u001b[0m \u001b[0ma\u001b[0m\u001b[1;33m=\u001b[0m\u001b[1;36m12\u001b[0m\u001b[1;33m\u001b[0m\u001b[1;33m\u001b[0m\u001b[0m\n\u001b[1;32m----> 5\u001b[1;33m \u001b[1;32mif\u001b[0m \u001b[0ma\u001b[0m\u001b[1;33m<=\u001b[0m\u001b[1;36m18\u001b[0m\u001b[1;33m:\u001b[0m\u001b[1;32mraise\u001b[0m \u001b[0mclass_based_exception\u001b[0m\u001b[1;33m(\u001b[0m\u001b[1;34m\"to young for voting\"\u001b[0m\u001b[1;33m)\u001b[0m\u001b[1;33m\u001b[0m\u001b[1;33m\u001b[0m\u001b[0m\n\u001b[0m",
      "\u001b[1;31mclass_based_exception\u001b[0m: to young for voting"
     ]
    }
   ],
   "source": [
    "class class_based_exception(Exception):\n",
    "    def __init__(self,msg):\n",
    "        self.msg=msg\n",
    "a=12\n",
    "if a<=18:raise class_based_exception(\"to young for voting\")#directly accessing class with raise"
   ]
  },
  {
   "cell_type": "markdown",
   "id": "15ce7b10",
   "metadata": {},
   "source": [
    "#### Q3. Describe two methods for attaching context information to exception artefacts ?\n",
    "**Ans:** The **`process()`** method of LoggerAdapter is where the contextual information is added to the logging output. its passes the message and keyword arguments of the logging call, and it passes back modified versions of these to use in the call to the underlying logger.\n",
    "\n",
    "Other method that can be used is **`exception()`**, Logs a messgae with level ERROR on this logger. The arguments are interpreted as for **`debug()`**. Exception info is added to the logging message."
   ]
  },
  {
   "cell_type": "markdown",
   "id": "7fbfd775",
   "metadata": {},
   "source": [
    "#### Q4. Describe two methods for specifying the text of an exception object's error message ?\n",
    "**Ans:** **`raise`** and **`assert`** are two methods for specifying the text of an exception object's error message.**`raise`** statement is used to trigger explicit exception, \n",
    "There are few assertions that programmer always want to be True to avoid code failure. This type of requirment is fullfilled by **`assert`** statement. This statement takes a Boolean Condition output of which if True, further program executes. if output of assert statement is False it raises an **`Assertion Error`**"
   ]
  },
  {
   "cell_type": "markdown",
   "id": "0855de9b",
   "metadata": {},
   "source": [
    "#### Q5. Why do you no longer use string-based exceptions?\n",
    "**Ans:** String-based Exceptions doesn't inherit from Exceptions. so plain exceptions catch all exceptions and not only system.\n",
    "Python's standard exceptions (IOError, TypeError, etc.) were defined as strings. ... Because it is possible (although unlikely) that this change broke existing code, the Python interpreter can be invoked the command line option -X to disable this feature, and use string exceptions like before"
   ]
  }
 ],
 "metadata": {
  "kernelspec": {
   "display_name": "Python 3",
   "language": "python",
   "name": "python3"
  },
  "language_info": {
   "codemirror_mode": {
    "name": "ipython",
    "version": 3
   },
   "file_extension": ".py",
   "mimetype": "text/x-python",
   "name": "python",
   "nbconvert_exporter": "python",
   "pygments_lexer": "ipython3",
   "version": "3.8.8"
  }
 },
 "nbformat": 4,
 "nbformat_minor": 5
}
