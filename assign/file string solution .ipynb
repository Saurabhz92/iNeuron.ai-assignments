{
 "cells": [
  {
   "cell_type": "code",
   "execution_count": 1,
   "id": "45440c36",
   "metadata": {},
   "outputs": [],
   "source": [
    "with open('example.txt', 'w') as f: #file opening\n",
    "    f.write('This is a placement assignment')"
   ]
  },
  {
   "cell_type": "code",
   "execution_count": 3,
   "id": "7a9a4478",
   "metadata": {},
   "outputs": [],
   "source": [
    "from abc import ABC, abstractmethod\n",
    "\n",
    "class replace(ABC):#parent class\n",
    "    @abstractmethod\n",
    "    def replace(filename,old_string, new_string):\n",
    "        print(\"use Another child class\")\n",
    "\n",
    "\n",
    "# child class\n",
    "\n",
    "class File(replace):  #use of inheritance of parent class\n",
    "    def __init__(self, filename):\n",
    "        self.filename = filename\n",
    "\n",
    "    def read(self):\n",
    "        with open(self.filename, 'r') as f:\n",
    "            return f.read()\n",
    "    \n",
    "     \n",
    "    \n",
    "    def replace(filename, old_string, new_string): #parent class function\n",
    "        with open(filename, 'r') as f:\n",
    "            file_content = f.read()\n",
    "            file_content = file_content.replace(old_string, new_string)\n",
    "            with open(filename, 'w') as f:\n",
    "                f.write(file_content)\n",
    "        print('successfully done')"
   ]
  },
  {
   "cell_type": "code",
   "execution_count": 4,
   "id": "863feba7",
   "metadata": {},
   "outputs": [
    {
     "name": "stdout",
     "output_type": "stream",
     "text": [
      "use Another child class\n"
     ]
    }
   ],
   "source": [
    "replace.replace('example.txt','placement','screening')"
   ]
  },
  {
   "cell_type": "code",
   "execution_count": 5,
   "id": "000c6f69",
   "metadata": {},
   "outputs": [
    {
     "name": "stdout",
     "output_type": "stream",
     "text": [
      "successfully done\n"
     ]
    }
   ],
   "source": [
    "File.replace('example.txt','placement','screening')"
   ]
  },
  {
   "cell_type": "code",
   "execution_count": null,
   "id": "b82fb2d0",
   "metadata": {},
   "outputs": [],
   "source": []
  }
 ],
 "metadata": {
  "kernelspec": {
   "display_name": "Python 3",
   "language": "python",
   "name": "python3"
  },
  "language_info": {
   "codemirror_mode": {
    "name": "ipython",
    "version": 3
   },
   "file_extension": ".py",
   "mimetype": "text/x-python",
   "name": "python",
   "nbconvert_exporter": "python",
   "pygments_lexer": "ipython3",
   "version": "3.8.8"
  }
 },
 "nbformat": 4,
 "nbformat_minor": 5
}
