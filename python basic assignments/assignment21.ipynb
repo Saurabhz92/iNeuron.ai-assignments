{
 "cells": [
  {
   "cell_type": "markdown",
   "id": "984b4513",
   "metadata": {},
   "source": [
    "# Assignment 21 "
   ]
  },
  {
   "cell_type": "markdown",
   "id": "4fe8b19e",
   "metadata": {},
   "source": [
    "#### 1. Add the current date to the text file today.txt as a string."
   ]
  },
  {
   "cell_type": "code",
   "execution_count": 1,
   "id": "4c5ad5ac",
   "metadata": {},
   "outputs": [
    {
     "name": "stdout",
     "output_type": "stream",
     "text": [
      "18-02-22\n"
     ]
    }
   ],
   "source": [
    "import datetime as dt\n",
    "with open('time.txt','w') as file:\n",
    "    file.write(dt.datetime.now().strftime(\"%d-%m-%y\"))\n",
    "    file.close\n",
    "\n",
    "with open ('time.txt','r') as file:\n",
    "    print(file.read())"
   ]
  },
  {
   "cell_type": "markdown",
   "id": "6cf23762",
   "metadata": {},
   "source": [
    "#### 2. Read the text file today.txt into the string today_string"
   ]
  },
  {
   "cell_type": "code",
   "execution_count": 10,
   "id": "107143ea",
   "metadata": {},
   "outputs": [
    {
     "name": "stdout",
     "output_type": "stream",
     "text": [
      "18-02-22\n"
     ]
    }
   ],
   "source": [
    "with open ('time.txt','r') as file:\n",
    "    today_string = file.read()\n",
    "    print(today_string)"
   ]
  },
  {
   "cell_type": "markdown",
   "id": "165addb6",
   "metadata": {},
   "source": [
    "#### 3. Parse the date from today_string."
   ]
  },
  {
   "cell_type": "code",
   "execution_count": 14,
   "id": "c622da5b",
   "metadata": {},
   "outputs": [
    {
     "name": "stdout",
     "output_type": "stream",
     "text": [
      "2022-02-18 00:00:00\n"
     ]
    }
   ],
   "source": [
    "from datetime import datetime\n",
    "parsed_data = datetime.strptime(today_string, '%d-%m-%y')\n",
    "print(parsed_data)"
   ]
  },
  {
   "cell_type": "markdown",
   "id": "664d3278",
   "metadata": {},
   "source": [
    "#### 4. List the files in your current directory"
   ]
  },
  {
   "cell_type": "code",
   "execution_count": 2,
   "id": "a25935a7",
   "metadata": {},
   "outputs": [],
   "source": [
    "import os \n",
    "os.chdir(r'C:\\\\Users\\\\Shree\\Pictures')"
   ]
  },
  {
   "cell_type": "code",
   "execution_count": 6,
   "id": "cbacd0e4",
   "metadata": {},
   "outputs": [
    {
     "name": "stdout",
     "output_type": "stream",
     "text": [
      "1_5174985925783978485.mkv\n",
      "desktop.ini\n",
      "IMG_20220130_203253_118.jpg\n",
      "MomentCam_20211204210134_00511003303940.jpg\n",
      "PUSHPA.MKV\n",
      "desktop.ini\n",
      "desktop.ini\n",
      "wallpaperflare.com_wallpaper (1).jpg\n",
      "wallpaperflare.com_wallpaper (2).jpg\n",
      "wallpaperflare.com_wallpaper.jpg\n"
     ]
    }
   ],
   "source": [
    "import os\n",
    "for folders,subfolders, files in os.walk(os.getcwd()):\n",
    "    for file in files:\n",
    "        print(file)"
   ]
  },
  {
   "cell_type": "markdown",
   "id": "291a203b",
   "metadata": {},
   "source": [
    "#### 5. Create a list of all of the files in your parent directory (minimum five files should be available)."
   ]
  },
  {
   "cell_type": "code",
   "execution_count": 4,
   "id": "efe9618b",
   "metadata": {},
   "outputs": [
    {
     "data": {
      "text/plain": [
       "['1_5174985925783978485.mkv',\n",
       " 'Camera Roll',\n",
       " 'desktop.ini',\n",
       " 'IMG_20220130_203253_118.jpg',\n",
       " 'MomentCam_20211204210134_00511003303940.jpg',\n",
       " 'PUSHPA.MKV',\n",
       " 'Saved Pictures']"
      ]
     },
     "execution_count": 4,
     "metadata": {},
     "output_type": "execute_result"
    }
   ],
   "source": [
    "import os \n",
    "os.listdir()"
   ]
  },
  {
   "cell_type": "markdown",
   "id": "203dd9fe",
   "metadata": {},
   "source": [
    "#### 6. Use multiprocessing to create three separate processes. Make each one wait a random number of seconds between one and five, print the current time, and then exit."
   ]
  },
  {
   "cell_type": "code",
   "execution_count": 6,
   "id": "bcb2799b",
   "metadata": {},
   "outputs": [],
   "source": [
    "import multiprocessing\n",
    "import time \n",
    "import random\n",
    "import datetime\n",
    "\n",
    "def procOne():\n",
    "    print(f'Process_one_Starttime -> {datetime.datetime.now()}')\n",
    "    \n",
    "    time.sleep(random.randint(1,5))\n",
    "    print(f'Process_one_Endtime -> {datetime.datetime.now()}')\n",
    "    \n",
    "def procTwo():\n",
    "    print(f'Process_two_Starttime -> {datetime.datetime.now()}')\n",
    "    time.sleep(random.randint(1,5))\n",
    "    print(f'Process_two_Endtime -> {datetime.datetime.now()}')\n",
    "\n",
    "def procThree():\n",
    "    print(f'Process_three_Starttime -> {datetime.datetime.now()}')\n",
    "    time.sleep(random.randint(1,5))\n",
    "    print(f'Process_three_Endtime -> {datetime.datetime.now()}')\n",
    "    \n",
    "if __name__ == \"__main__\":    \n",
    "    p1 = multiprocessing.Process(target=procOne)\n",
    "    p2 = multiprocessing.Process(target=procTwo)\n",
    "    p3 = multiprocessing.Process(target=procThree)\n",
    "\n",
    "    p1.start()\n",
    "    p2.start()\n",
    "    p3.start()\n",
    "\n",
    "    p1.join()\n",
    "    p2.join()\n",
    "    p3.join()"
   ]
  },
  {
   "cell_type": "markdown",
   "id": "710ba830-38ca-4814-a28d-a266099ff07f",
   "metadata": {},
   "source": [
    "Due to some unknown reason. the above did not print any results in the jupyter cell. so i copied the code to a python file. executed it and pasted the ouput here  \n",
    "`(base) C:\\Users\\vishnu.adepu\\Desktop>python es_poc.py`  \n",
    "`Proc_one_Starttime -> 2021-09-22 18:41:59.354061`  \n",
    "`Proc_two_Starttime -> 2021-09-22 18:41:59.363712`  \n",
    "`Proc_two_Starttime -> 2021-09-22 18:41:59.367238`  \n",
    "`Proc_two_Endtime -> 2021-09-22 18:42:04.369860`  \n",
    "`Proc_two_Endtime -> 2021-09-22 18:42:04.369860`  \n",
    "`Proc_one_Endtime -> 2021-09-22 18:42:04.369860`  "
   ]
  },
  {
   "cell_type": "markdown",
   "id": "71d07e78",
   "metadata": {},
   "source": [
    "#### 7. Create a date object of your day of birth."
   ]
  },
  {
   "cell_type": "code",
   "execution_count": 7,
   "id": "b3e67c1c",
   "metadata": {},
   "outputs": [
    {
     "name": "stdout",
     "output_type": "stream",
     "text": [
      "1996-01-29 00:00:00 <class 'datetime.datetime'>\n"
     ]
    }
   ],
   "source": [
    "from datetime import datetime\n",
    "my_dob = datetime.strptime('29/01/1996','%d/%m/%Y')\n",
    "print(my_dob, type(my_dob))"
   ]
  },
  {
   "cell_type": "markdown",
   "id": "e5775db9",
   "metadata": {},
   "source": [
    "#### 8. What day of the week was your day of birth?"
   ]
  },
  {
   "cell_type": "code",
   "execution_count": 17,
   "id": "65b6ae43",
   "metadata": {},
   "outputs": [
    {
     "name": "stdout",
     "output_type": "stream",
     "text": [
      "1996-January-29\n",
      "Monday\n"
     ]
    }
   ],
   "source": [
    "from datetime import datetime\n",
    "my_dob = datetime(1996,1,29)\n",
    "print(my_dob.strftime(\"%Y-%B-%d\"))\n",
    "print(my_dob.strftime(\"%A\"))"
   ]
  },
  {
   "cell_type": "markdown",
   "id": "abe779de",
   "metadata": {},
   "source": [
    "#### 9. When will you be (or when were you) 10,000 days old?"
   ]
  },
  {
   "cell_type": "code",
   "execution_count": 28,
   "id": "db7e28a0",
   "metadata": {},
   "outputs": [
    {
     "name": "stdout",
     "output_type": "stream",
     "text": [
      "initial_date=>   2022-02-18 13:43:04.540448\n",
      "\n",
      "future_date_after_10000_days=>   2049-07-06 13:43:04.540448\n"
     ]
    }
   ],
   "source": [
    "# Timedelta function demonstration\n",
    "\n",
    "from datetime import datetime, timedelta\n",
    "\n",
    "\n",
    "# Using current time\n",
    "ini_time_for_now = datetime.now()\n",
    "\n",
    "# printing initial_date\n",
    "print (\"initial_date=>  \", str(ini_time_for_now))\n",
    "\n",
    "# Calculating future dates\n",
    "# for two years\n",
    "future_date_after_10000_days = ini_time_for_now + \\\n",
    "                        timedelta(days = 10000)\n",
    "\n",
    "# printing calculated future_dates\n",
    "print('\\nfuture_date_after_10000_days=>  ', str(future_date_after_10000_days))\n"
   ]
  },
  {
   "cell_type": "code",
   "execution_count": null,
   "id": "6326be50",
   "metadata": {},
   "outputs": [],
   "source": []
  }
 ],
 "metadata": {
  "kernelspec": {
   "display_name": "Python 3",
   "language": "python",
   "name": "python3"
  },
  "language_info": {
   "codemirror_mode": {
    "name": "ipython",
    "version": 3
   },
   "file_extension": ".py",
   "mimetype": "text/x-python",
   "name": "python",
   "nbconvert_exporter": "python",
   "pygments_lexer": "ipython3",
   "version": "3.8.8"
  }
 },
 "nbformat": 4,
 "nbformat_minor": 5
}
