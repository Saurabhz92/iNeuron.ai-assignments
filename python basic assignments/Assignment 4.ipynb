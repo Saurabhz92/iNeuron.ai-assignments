{
 "cells": [
  {
   "cell_type": "markdown",
   "id": "41bc56d1",
   "metadata": {},
   "source": [
    "# Assignment 4 (Python basic)"
   ]
  },
  {
   "cell_type": "markdown",
   "id": "4d2ed0e4",
   "metadata": {},
   "source": [
    "#### 1.What exactly is `[ ]`?\n",
    "**Ans**: The empty list shows by symbol `[]` is a list that contains no items. "
   ]
  },
  {
   "cell_type": "markdown",
   "id": "b6e56852",
   "metadata": {},
   "source": [
    "#### 2.In a list of values stored in a variable called spam, how would you assign the value 'hello' as the third value? (Assume [2, 4, 6, 8, 10] are in spam.) \n",
    "**Ans:** `spam[2]='hello'` "
   ]
  },
  {
   "cell_type": "markdown",
   "id": "423f2578",
   "metadata": {},
   "source": [
    "## Let's pretend the spam includes the list ['a','b','c','d'] for the next three queries."
   ]
  },
  {
   "cell_type": "markdown",
   "id": "c3093377",
   "metadata": {},
   "source": [
    "#### 3. What is the value of `spam[int(int('3'*2)//11)]` ?\n",
    "**Ans:** `d`"
   ]
  },
  {
   "cell_type": "code",
   "execution_count": 1,
   "id": "338984fe",
   "metadata": {},
   "outputs": [
    {
     "name": "stdout",
     "output_type": "stream",
     "text": [
      "d\n"
     ]
    }
   ],
   "source": [
    "spam=['a','b','c','d']\n",
    "print(spam[int(int('3'*2)//11)])"
   ]
  },
  {
   "cell_type": "markdown",
   "id": "9e1182c8",
   "metadata": {},
   "source": [
    "#### 4. What is the value of spam[-1]?\n",
    "**Ans:** `'d'` (Negative indexing)"
   ]
  },
  {
   "cell_type": "code",
   "execution_count": 2,
   "id": "ee415de9",
   "metadata": {},
   "outputs": [
    {
     "name": "stdout",
     "output_type": "stream",
     "text": [
      "d\n"
     ]
    }
   ],
   "source": [
    "spam=['a','b','c','d']\n",
    "print(spam[-1])"
   ]
  },
  {
   "cell_type": "markdown",
   "id": "95920e0b",
   "metadata": {},
   "source": [
    "#### 5. What is the value of spam[:2]?\n",
    "**Ans:** `spam[:2]` returns all elements in the list spam from 0 to 2 excluding 2"
   ]
  },
  {
   "cell_type": "code",
   "execution_count": 3,
   "id": "19c06353",
   "metadata": {},
   "outputs": [
    {
     "name": "stdout",
     "output_type": "stream",
     "text": [
      "['a', 'b', 'c', 'd']\n",
      "['a', 'b']\n"
     ]
    }
   ],
   "source": [
    "print(spam)\n",
    "print(spam[:2])"
   ]
  },
  {
   "cell_type": "markdown",
   "id": "0c597670",
   "metadata": {},
   "source": [
    "## Let's pretend bacon has the list [3.14,'cat',11,'cat',True] for the next three question"
   ]
  },
  {
   "cell_type": "markdown",
   "id": "4532aa75",
   "metadata": {},
   "source": [
    "#### 6. What is the value of bacon.index('cat')?"
   ]
  },
  {
   "cell_type": "markdown",
   "id": "b6d1d5fe",
   "metadata": {},
   "source": [
    "**Ans:** The value of `bacon.index('cat')` is `1` (index attribute define the place  in integer format "
   ]
  },
  {
   "cell_type": "code",
   "execution_count": 5,
   "id": "29ad2c43",
   "metadata": {},
   "outputs": [
    {
     "name": "stdout",
     "output_type": "stream",
     "text": [
      "1\n"
     ]
    }
   ],
   "source": [
    "bacon=[3.14,'cat',11,'cat',True]\n",
    "print(bacon.index('cat'))"
   ]
  },
  {
   "cell_type": "markdown",
   "id": "a6315daa",
   "metadata": {},
   "source": [
    "#### 7. How does bacon.append(99) change the look of the list value in bacon?\n",
    "**Ans:** The `append` method adds new elements to  list"
   ]
  },
  {
   "cell_type": "code",
   "execution_count": 6,
   "id": "be0ebd05",
   "metadata": {},
   "outputs": [
    {
     "name": "stdout",
     "output_type": "stream",
     "text": [
      "[3.14, 'cat', 11, 'cat', True]\n",
      "[3.14, 'cat', 11, 'cat', True, 99]\n"
     ]
    }
   ],
   "source": [
    "# Example\n",
    "print(bacon)\n",
    "bacon.append(99) # appends 99 to the end of the list\n",
    "print(bacon)"
   ]
  },
  {
   "cell_type": "markdown",
   "id": "85e81927",
   "metadata": {},
   "source": [
    "#### 8. How does bacon.remove('cat') change the look of the list in bacon?\n",
    "**Ans:** The `remove` method removes the first occurence of the element in the list"
   ]
  },
  {
   "cell_type": "code",
   "execution_count": 7,
   "id": "c3aca074",
   "metadata": {},
   "outputs": [
    {
     "name": "stdout",
     "output_type": "stream",
     "text": [
      "[3.14, 'cat', 11, 'cat', True, 99]\n",
      "[3.14, 11, 'cat', True, 99]\n"
     ]
    }
   ],
   "source": [
    "print(bacon)\n",
    "bacon.remove('cat')\n",
    "print(bacon)"
   ]
  },
  {
   "cell_type": "markdown",
   "id": "cdbe3c4a",
   "metadata": {},
   "source": [
    "#### 9.what are the list concatenation and list replication operations?\n",
    "**Ans:**  concatenation operator of list is `+`, while the operator for replication is `*`."
   ]
  },
  {
   "cell_type": "code",
   "execution_count": 6,
   "id": "bd9dc39a",
   "metadata": {},
   "outputs": [
    {
     "name": "stdout",
     "output_type": "stream",
     "text": [
      "['al', 'bl', 'cl', 'dl', 'clp', 'AS', 'AB', 'XS']\n",
      "['AS', 'AB', 'XS', 'AS', 'AB', 'XS']\n"
     ]
    }
   ],
   "source": [
    "# Example\n",
    "list_1 = ['al','bl','cl','dl','clp']\n",
    "list_2 = ['AS','AB','XS']\n",
    "print(list_1 + list_2) # List Concatenation\n",
    "print(list_2*2) # List Replication"
   ]
  },
  {
   "cell_type": "markdown",
   "id": "d4f9b87c",
   "metadata": {},
   "source": [
    "#### 10.what is the difference between the list method append() and insert()?\n",
    "**Ans:** While append() will add values only to the end of a list, insert() can add item, anywhere in the list by passing through place no."
   ]
  },
  {
   "cell_type": "code",
   "execution_count": 9,
   "id": "e2901ff6",
   "metadata": {},
   "outputs": [
    {
     "name": "stdout",
     "output_type": "stream",
     "text": [
      "[1, 2, 3, 4, 5, 6]\n",
      "[1, 'SAUR', 2, 3, 4, 5, 6]\n"
     ]
    }
   ],
   "source": [
    "#Examples\n",
    "list = [1,2,3,4,5]\n",
    "list.append(6)\n",
    "print(list)\n",
    "list.insert(1,'SAUR')\n",
    "print(list)"
   ]
  },
  {
   "cell_type": "markdown",
   "id": "3b178c74",
   "metadata": {},
   "source": [
    "#### 11. What are the two methods for removing items from a list?\n",
    "**Ans:** The `del` statement and the `remove()` method are two ways to remove values from a list"
   ]
  },
  {
   "cell_type": "code",
   "execution_count": 4,
   "id": "56e533d0",
   "metadata": {},
   "outputs": [
    {
     "name": "stdout",
     "output_type": "stream",
     "text": [
      "['a', 'b', 'c', 'd']\n",
      "['b', 'c', 'd']\n",
      "['b', 'd']\n"
     ]
    }
   ],
   "source": [
    "print(spam)\n",
    "del spam[0]# example of del attribute \n",
    "print(spam)\n",
    "\n",
    "spam.remove('c')#examle of remove attribute\n",
    "print(spam)"
   ]
  },
  {
   "cell_type": "markdown",
   "id": "3811c0e8",
   "metadata": {},
   "source": [
    "#### 12. Describe how list values and string values are identical.\n",
    "**Ans:** lists and strings both are stored in variable in indexing format where we can do slicing ,concatanation ,multiplication operation."
   ]
  },
  {
   "cell_type": "markdown",
   "id": "4845136b",
   "metadata": {},
   "source": [
    "#### 13. What's the difference between tuples and lists?\n",
    "**Ans:** The key difference between the tuples and lists is that while the tuples are `immutable` objects the lists are `mutable`. This means that tuples cannot be changed while the lists can be modified.tuple is defined by symbol`()` and list is defined by symbol `[]`"
   ]
  },
  {
   "cell_type": "markdown",
   "id": "7fa16181",
   "metadata": {},
   "source": [
    "#### 14. How do you type a tuple value that only contains the integer 42?\n",
    "**Ans:**(42,) "
   ]
  },
  {
   "cell_type": "code",
   "execution_count": 6,
   "id": "20c9775f",
   "metadata": {},
   "outputs": [
    {
     "name": "stdout",
     "output_type": "stream",
     "text": [
      "<class 'int'>\n",
      "<class 'tuple'>\n"
     ]
    }
   ],
   "source": [
    "tuple_1=(42)# example by passing int without ','\n",
    "tuple_2=(42,)# example by passing int with ','\n",
    "print(type(tuple_1))\n",
    "print(type(tuple_2))"
   ]
  },
  {
   "cell_type": "markdown",
   "id": "42d87c87",
   "metadata": {},
   "source": [
    "#### 15. How do you get a list value's tuple form? How do you get a tuple value's list form?\n",
    "**Ans:** The tuple() and list() functions, respectively are used to convert a list to tuple and vice versa"
   ]
  },
  {
   "cell_type": "markdown",
   "id": "eac0fa89",
   "metadata": {},
   "source": [
    "#### 16. Variables that &quot;contain&quot; list values are not necessarily lists themselves. Instead, what do they contain?\n",
    "**Ans**: Variables will contain references to list values rather than list values themselves. But for strings and integer values, variables simply contain the string or integer value"
   ]
  },
  {
   "cell_type": "markdown",
   "id": "c0f78aa7",
   "metadata": {},
   "source": [
    "#### 17. How do you distinguish between copy.copy() and copy.deepcopy()?\n",
    "**Ans:** The `copy.copy()` function will do a shallow copy of a list, while the `copy.deepcopy()` function will do a deep copy of a list. That is, only `copy.deepcopy()` will duplicate any lists inside the list."
   ]
  },
  {
   "cell_type": "code",
   "execution_count": 8,
   "id": "cbfc13e4",
   "metadata": {},
   "outputs": [
    {
     "name": "stdout",
     "output_type": "stream",
     "text": [
      "Old list: [[1, 2, 3], [4, 5, 6], [7, 8, 9]]\n",
      "New list: [[1, 2, 3], [4, 5, 6], [7, 8, 9]]\n",
      "New1 list: [[1, 2, 3], [4, 5, 6], [7, 8, 9]]\n"
     ]
    }
   ],
   "source": [
    "import copy\n",
    "\n",
    "old_list = [[1, 2, 3], [4, 5, 6], [7, 8, 9]]\n",
    "new_list = copy.copy(old_list)# copy the list \n",
    "new1_list= copy.deepcopy(old_list)# deepcopy of the list\n",
    "\n",
    "print(\"Old list:\", old_list)\n",
    "print(\"New list:\", new_list)\n",
    "print(\"New1 list:\", new1_list)"
   ]
  },
  {
   "cell_type": "code",
   "execution_count": null,
   "id": "14c4caa0",
   "metadata": {},
   "outputs": [],
   "source": []
  }
 ],
 "metadata": {
  "kernelspec": {
   "display_name": "Python 3",
   "language": "python",
   "name": "python3"
  },
  "language_info": {
   "codemirror_mode": {
    "name": "ipython",
    "version": 3
   },
   "file_extension": ".py",
   "mimetype": "text/x-python",
   "name": "python",
   "nbconvert_exporter": "python",
   "pygments_lexer": "ipython3",
   "version": "3.8.8"
  }
 },
 "nbformat": 4,
 "nbformat_minor": 5
}
