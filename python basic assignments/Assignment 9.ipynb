{
 "cells": [
  {
   "cell_type": "markdown",
   "id": "5e4896b3",
   "metadata": {},
   "source": [
    "# Assignment 9 Python basic"
   ]
  },
  {
   "cell_type": "markdown",
   "id": "7a719726",
   "metadata": {},
   "source": [
    "#### 1.To what does a relative path refer ?\n",
    "**Ans:** The relative path is the path to show path file with respect to your current working directory (PWD).  \n",
    "**For example:** if Absolute path to a file called s.txt is: `C:/users/admin/docs/s.txt` If my PWD is `C:/users/admin/` , then the relative path to `stuff.txt` would be: `docs/s.txt`       \n",
    "**Note:** PWD + relative path = absolute path"
   ]
  },
  {
   "cell_type": "markdown",
   "id": "1e5a7601",
   "metadata": {},
   "source": [
    "#### 2.Where does an absolute path start with your Operating System ?\n",
    "**Ans:** In Windows based systems absolute path starts with **`C:`**"
   ]
  },
  {
   "cell_type": "markdown",
   "id": "20cf4bf7",
   "metadata": {},
   "source": [
    "#### 3.What does the functions `os.getcwd()` and `os.chdir()` do ?\n",
    "**Ans:**\n",
    "`os.chdir(path)` = To change the current working directory we use \n",
    "`os.getcwd()` = To show current working directory we use "
   ]
  },
  {
   "cell_type": "code",
   "execution_count": 7,
   "id": "68d179cd",
   "metadata": {},
   "outputs": [
    {
     "name": "stdout",
     "output_type": "stream",
     "text": [
      "Current working directory is: C:\\Users\\Shree\\python basic assignment\n"
     ]
    }
   ],
   "source": [
    "# import os module\n",
    "import os\n",
    "\n",
    "# change the current working directory\n",
    "# to specified path\n",
    "os.chdir(r\"C:\\Users\\Shree\\python basic assignment\")\n",
    "\n",
    "# verify the path using getcwd()\n",
    "cwd = os.getcwd()\n",
    "\n",
    "# print the current directory\n",
    "print(\"Current working directory is:\", cwd)\n"
   ]
  },
  {
   "cell_type": "markdown",
   "id": "ef89a436",
   "metadata": {},
   "source": [
    "#### 4.What are `.` and `..`  folders ?\n",
    "**Ans:** `.` Represents the Current Directory Whereas `..` Represents the Parent Directory of the Current Directory  \n",
    "**For Example:** \n",
    "if the below path is my absolute path:  \n",
    "`C:\\\\Users\\\\shree\\\\Python Basic Assignment`  \n",
    "Then `.` represents the path `C:\\\\Users\\\\shree\\\\Python Basic Assignment`  \n",
    "Where as `..` represents the path`C:\\\\Users\\\\shree`"
   ]
  },
  {
   "cell_type": "markdown",
   "id": "dc9559e2",
   "metadata": {},
   "source": [
    "#### 5.In `C:\\bacon\\eggs\\spam.txt` which part is the dir name and which part is the base name ?\n",
    "**Ans:** For `C:\\bacon\\eggs\\spam.txt`  \n",
    "The dir name is `C:\\\\bacon\\\\eggs`  \n",
    "The Base name is `spam.txt`"
   ]
  },
  {
   "cell_type": "markdown",
   "id": "edb97d1b",
   "metadata": {},
   "source": [
    "#### 6.What are the three `mode` arguments that can be passed to the `open()` function ?\n",
    "**Ans:** A file can be open in python by using `open()` function. open function takes two arguments filename and mode of operation (optional). if mode is not provided the default mode of opening is read mode **`open(filename, mode)`**\n",
    "\n",
    "\n",
    "* **`‘r’`** – Read Mode: This is the default mode for open(). The file is opened and a pointer is positioned at the beginning of the file’s content.\n",
    "* **`‘w’`** – Write Mode: Using this mode will overwrite any existing content in a file. If the given file does not exist, a new one will be created. \n",
    "* **`‘r+’`** – Read/Write Mode: Use this mode if you need to simultaneously read and write to a file.\n",
    "* **`‘a’`** – Append Mode: With this mode the user can append the data without overwriting any already existing data in the file. \n",
    "* **`‘a+’`** – Append and Read Mode: In this mode you can read and append the data without overwriting the original file.\n",
    "* **`‘x’`** – Exclusive Creating Mode: This mode is for the sole purpose of creating new files. Use this mode if you know the file to be written doesn’t exist beforehand."
   ]
  },
  {
   "cell_type": "markdown",
   "id": "a6250b7d",
   "metadata": {},
   "source": [
    "#### 7.What happens if an existing file is opened in write mode ?\n",
    "**Ans:** If a file with the same name already exists, its contents are discarded and the file is treated as a new empty file."
   ]
  },
  {
   "cell_type": "markdown",
   "id": "e76da392",
   "metadata": {},
   "source": [
    "#### 8.How do you tell the difference between `read()` and `readlines()` ?\n",
    "**Ans:** The main difference is that **`read()`** will read the whole file at once ..this will read whole file by one by one words if we pass the number then itreation will happen .it would treat each character in the file separately, meaning that the iteration would happen for every character.\n",
    "\n",
    "* Whereas the **`readlines()`**  You may want to use readlines() when you're reading files that are too big for your RAM.when this function apply it will give you output whole lines of the file\n",
    "\n",
    "* The **`readline()`** function, on the other hand, only reads a single line of the file. this means it will give us only single line of the file \n"
   ]
  },
  {
   "cell_type": "markdown",
   "id": "9e161992",
   "metadata": {},
   "source": [
    "#### 9.What data structure does a shelf value resemble ?\n",
    "**Ans:** A shelf value resembles a dictionary value ,it has keys and values, along with keys() and values() methods that work similarly to the dictionary methods of the same names."
   ]
  }
 ],
 "metadata": {
  "kernelspec": {
   "display_name": "Python 3",
   "language": "python",
   "name": "python3"
  },
  "language_info": {
   "codemirror_mode": {
    "name": "ipython",
    "version": 3
   },
   "file_extension": ".py",
   "mimetype": "text/x-python",
   "name": "python",
   "nbconvert_exporter": "python",
   "pygments_lexer": "ipython3",
   "version": "3.8.8"
  }
 },
 "nbformat": 4,
 "nbformat_minor": 5
}
