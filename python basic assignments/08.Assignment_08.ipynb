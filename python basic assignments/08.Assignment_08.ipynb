{
 "cells": [
  {
   "cell_type": "markdown",
   "id": "bd4844c1",
   "metadata": {},
   "source": [
    "# Assignment 8 Solutions"
   ]
  },
  {
   "cell_type": "markdown",
   "id": "215594ca",
   "metadata": {},
   "source": [
    "#### 1. Is the Python Standard Library included with PyInputPlus?\n",
    "**Ans:** No, **`PyInputPlus`** is not a part of Python Standard Library.  **`!pip install PyInputPlus`** using this command we need to be install it."
   ]
  },
  {
   "cell_type": "markdown",
   "id": "76a769e0",
   "metadata": {},
   "source": [
    "#### 2. Why is PyInputPlus commonly imported with import pyinputplus as pypi?\n",
    "**Ans:** **`import pyinputplus as pyip`** using this command w can import module in short name variable as `pyip` so that you can enter a shorter name when calling the module's functions."
   ]
  },
  {
   "cell_type": "markdown",
   "id": "5d578dfb",
   "metadata": {},
   "source": [
    "#### 3. How do you distinguish between inputInt() and inputFloat()?\n",
    "**Ans:** **`inputInt()`** Accepts an integer value. This also takes additional parameters ‘min’, ‘max’, ‘greaterThan’ and ‘lessThan’  for bounds. Returns an int.\n",
    "\n",
    "Whereas **`inputFloat()`** Accepts a floating-point numeric value. Also takes additional ‘min’, ‘max’, ‘greaterThan’ and ‘lessThan’  parameters. Returns a float"
   ]
  },
  {
   "cell_type": "markdown",
   "id": "5a276409",
   "metadata": {},
   "source": [
    "#### 4. Using PyInputPlus, how do you ensure that the user enters a whole number between 0 and 99?\n",
    "**Ans:** In pyinputplus module inputint attribute lying by using this attribute and passing some min and max parrameters we can receive output in between min and max range.\n",
    "example is shown below.\n",
    "\n",
    "`  "
   ]
  },
  {
   "cell_type": "code",
   "execution_count": 1,
   "id": "13e8613e",
   "metadata": {},
   "outputs": [
    {
     "name": "stdout",
     "output_type": "stream",
     "text": [
      "Enter a number: 121\n",
      "Number must be at maximum 100.\n",
      "Enter a number: 12\n",
      "12\n"
     ]
    }
   ],
   "source": [
    "import pyinputplus as pyip  \n",
    "wholenumber = pyip.inputInt(prompt='Enter a number: ', min=0, max=100) # passing the min and max parameters \n",
    "print(wholenumber)"
   ]
  },
  {
   "cell_type": "markdown",
   "id": "a3266159",
   "metadata": {},
   "source": [
    "#### 5. What is transferred to the keyword arguments allowRegexes and blockRegexes?\n",
    "**Ans:** we can use **`allowRegexes`** and **`blockRegexes`** keyword arguments to take list of regular expression strings to determine . we transferred keyword arguments in `allowRegexes`and blockRegexes is same as arguments we passed before in regular expressions it will allow or block them  respectively\n",
    "what the pyinputplus function will reject or accept valid input."
   ]
  },
  {
   "cell_type": "code",
   "execution_count": 3,
   "id": "019ce37d",
   "metadata": {},
   "outputs": [
    {
     "name": "stdout",
     "output_type": "stream",
     "text": [
      "What is your phone?708-333-0798\n",
      "Your phone is 708-333-0798\n"
     ]
    }
   ],
   "source": [
    "#example of allowRegexes\n",
    "import pyinputplus\n",
    "phone = pyinputplus.inputNum(prompt='What is your phone?',  allowRegexes=[r'\\d{3}-\\d{3}-\\d{4}', r'None'])\n",
    "print('Your phone is', phone)"
   ]
  },
  {
   "cell_type": "code",
   "execution_count": 6,
   "id": "eb34ddab",
   "metadata": {},
   "outputs": [
    {
     "name": "stdout",
     "output_type": "stream",
     "text": [
      "What is your phone?22\n",
      "This response is invalid.\n",
      "What is your phone?a12\n",
      "This response is invalid.\n",
      "What is your phone?708333708\n",
      "This response is invalid.\n",
      "What is your phone?708-333-0798\n",
      "Your phone is 708-333-0798\n"
     ]
    }
   ],
   "source": [
    "#exaample of blockRegexes\n",
    "\n",
    "import pyinputplus\n",
    "phone = pyinputplus.inputNum(prompt='What is your phone?',  allowRegexes=[r'\\d{3}-\\d{3}-\\d{4}',r'None'],blockRegexes=[r'\\S'] )\n",
    "print('Your phone is', phone)"
   ]
  },
  {
   "cell_type": "markdown",
   "id": "20251b09",
   "metadata": {},
   "source": [
    "#### 6. If a blank input is entered three times, what does inputStr(limit=3) do?\n",
    "**Ans:**\n",
    "the attribute of inputstr() in pyip module, we passing string through this attribute. it cant allow blank values by default , to avoid this we can pass the `blank=True` parameter. and we set the paramter **`limit=3`** that is max limit of passing valid string is set to 3.inorder to avoid this exception we can use **`default`** parameter to return a default value when max limit is reached."
   ]
  },
  {
   "cell_type": "code",
   "execution_count": null,
   "id": "ea6a72a1",
   "metadata": {},
   "outputs": [
    {
     "name": "stdout",
     "output_type": "stream",
     "text": [
      " \n",
      "Blank values are not allowed.\n",
      " \n",
      "Blank values are not allowed.\n"
     ]
    }
   ],
   "source": [
    "import pyinputplus as pyip\n",
    "string1=pyip.inputStr(limit=3)\n",
    "print(string1)"
   ]
  },
  {
   "cell_type": "markdown",
   "id": "a57b26ea",
   "metadata": {},
   "source": [
    "#### 7. If blank input is entered three times, what does inputStr(limit=3, default='hello') do?\n",
    "**Ans:** Since the default parameter is set to **`hello`**. after blank input is entered three times instead of raising **`RetryLimitException`** exception. the function will return **`hello`** as response to the calling function"
   ]
  },
  {
   "cell_type": "code",
   "execution_count": 2,
   "id": "8d29cd14",
   "metadata": {},
   "outputs": [
    {
     "name": "stdout",
     "output_type": "stream",
     "text": [
      " \n",
      "Blank values are not allowed.\n",
      " \n",
      "Blank values are not allowed.\n",
      "hello\n"
     ]
    }
   ],
   "source": [
    "import pyinputplus as pyip\n",
    "string=pyip.inputStr(limit=2,default=\"hello\")\n",
    "print(string)"
   ]
  },
  {
   "cell_type": "code",
   "execution_count": null,
   "id": "83315083",
   "metadata": {},
   "outputs": [],
   "source": []
  }
 ],
 "metadata": {
  "kernelspec": {
   "display_name": "Python 3",
   "language": "python",
   "name": "python3"
  },
  "language_info": {
   "codemirror_mode": {
    "name": "ipython",
    "version": 3
   },
   "file_extension": ".py",
   "mimetype": "text/x-python",
   "name": "python",
   "nbconvert_exporter": "python",
   "pygments_lexer": "ipython3",
   "version": "3.8.8"
  }
 },
 "nbformat": 4,
 "nbformat_minor": 5
}
