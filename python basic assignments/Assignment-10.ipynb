{
 "cells": [
  {
   "cell_type": "markdown",
   "id": "c750c84b",
   "metadata": {},
   "source": [
    "# Assignment 10 Python basic"
   ]
  },
  {
   "cell_type": "markdown",
   "id": "c00ae223",
   "metadata": {},
   "source": [
    "#### 1. How do you distinguish between shutil.copy() and shutil.copytree()?\n",
    "**Ans:** `shutil.copy()` it is a method to copy the file from one path to another path.it priamry takes two arguments source and distination represted by `src` and `dest` in code.if `dest` is a folder name the `src` with exact name will be copied to the `dest` folder, if its a file then the contents of `src` will be copied to `dest` where `dest` retains it name\n",
    "\n",
    "`shutil.copytree()` function is used to copy the entire contents of a folder to other folder. it also takes two arguments source and distination represented by `src` & `dest`,it copies all the content from `src` recursively and stores it in `dest`.`dest` must not exist prior to this and it will be created during the copy operation. Permissions and times of directories are copied with copystat() and individual files are copied using shutil.copy2()."
   ]
  },
  {
   "cell_type": "markdown",
   "id": "0a932861",
   "metadata": {},
   "source": [
    "#### 2. What function is used to rename files??\n",
    "**Ans:** this function used to raname the files by passing two arguments `source path` and `dectination path` by representing `src` and `dest` in python programming"
   ]
  },
  {
   "cell_type": "markdown",
   "id": "34ce7a3d",
   "metadata": {},
   "source": [
    "#### 3. What is the difference between the delete functions in the send2trash and shutil modules?\n",
    "**Ans:** Shutil module provides a funciton called as `shutil.rmtree()` which deletes a directory and all its contents. The other functions with similar functionality are `os.remove()` -> removes a file, `os.rmdir()` removes a empty directory. functions is once a file is deleted. it will be lost permanently.\n",
    "\n",
    "Where as send2trash module provides a function called `send2trash.send2trash()` to delete a file/directory. these methods moves the files/directories to trash folder instead of permanently deleting them. hence if a file/folder is deleted accidentally it can be still recovered from trash folder, if is deleted using the `send2trash.send2trash()` function. `send2trash` is not included with python standard libary like `os` & `shutil` modules. it needs to be installed explicitly using the command `!pip install send2trash`"
   ]
  },
  {
   "cell_type": "markdown",
   "id": "bf6ed792",
   "metadata": {},
   "source": [
    "#### 4.ZipFile objects have a close() method just like File objects’ close() method. What ZipFile method is equivalent to File objects’ open() method?\n",
    "**Ans:** \n",
    "we import a zipfile module inside it there are many attributes for using operation on different types of zipfile. in this module we have Zipfile.ZipFile() attribute similar to file.open method. and it will working similar file.open() like opening zipfile .it takes arugments like filename and mode etc `zipfile.ZipFile('filename', mode = 'r')`"
   ]
  },
  {
   "cell_type": "markdown",
   "id": "c625fcea",
   "metadata": {},
   "source": [
    "#### 5. Create a programme that searches a folder tree for files with a certain file extension (such as .pdf or .jpg). Copy these files from whatever location they are in to a new folder"
   ]
  },
  {
   "cell_type": "code",
   "execution_count": 7,
   "id": "4710d7d8",
   "metadata": {},
   "outputs": [
    {
     "name": "stdout",
     "output_type": "stream",
     "text": [
      "Folder Name ➞ C:\\Users\\Shree\\A\n",
      "\n",
      "Sub Folders ➞ ['.ipynb_checkpoints', 'Untitled Folder']\n",
      "\n",
      "Files ➞ ['f1.txt', 'm-checkpoint.txt', 'm.txt']\n",
      "\n",
      "Files copied successfully from C:\\Users\\Shree\\A to C:\\Users\\Shree\\B\n",
      "Folder Name ➞ C:\\Users\\Shree\\A\\.ipynb_checkpoints\n",
      "\n",
      "Sub Folders ➞ []\n",
      "\n",
      "Files ➞ []\n",
      "\n",
      "Files copied successfully from C:\\Users\\Shree\\A to C:\\Users\\Shree\\B\n",
      "Folder Name ➞ C:\\Users\\Shree\\A\\Untitled Folder\n",
      "\n",
      "Sub Folders ➞ ['.ipynb_checkpoints']\n",
      "\n",
      "Files ➞ ['BB.txt']\n",
      "\n",
      "Files copied successfully from C:\\Users\\Shree\\A to C:\\Users\\Shree\\B\n",
      "Folder Name ➞ C:\\Users\\Shree\\A\\Untitled Folder\\.ipynb_checkpoints\n",
      "\n",
      "Sub Folders ➞ []\n",
      "\n",
      "Files ➞ []\n",
      "\n",
      "Files copied successfully from C:\\Users\\Shree\\A to C:\\Users\\Shree\\B\n"
     ]
    }
   ],
   "source": [
    "import os\n",
    "import shutil\n",
    "\n",
    "def search_and_copy(source,destination,extensions):\n",
    "    \n",
    "    source = os.path.abspath(source)\n",
    "    \n",
    "    destination = os.path.abspath(destination)\n",
    "    \n",
    "    for foldername, subfolder, filenames in os.walk(source):\n",
    "        \n",
    "        print(f'Folder Name ➞ {foldername}' ,end='\\n\\n')\n",
    "        \n",
    "        print(f'Sub Folders ➞ {subfolder}' ,end='\\n\\n')\n",
    "        \n",
    "        print(f'Files ➞ {filenames}',  end='\\n\\n')\n",
    "        \n",
    "    \n",
    "        for filename in filenames:\n",
    "            fileName,extension = os.path.splitext(filename)\n",
    "            \n",
    "            if extension in extensions:\n",
    "                targetFile = foldername + os.path.sep + fileName + extension\n",
    "                shutil.copy(targetFile, destination)\n",
    "        print(f'Files copied successfully from {source} to {destination}')\n",
    "    \n",
    "extensions = ['.txt']\n",
    "\n",
    "source = 'A'\n",
    "\n",
    "destination = 'B'\n",
    "\n",
    "search_and_copy(source, destination, extensions)"
   ]
  },
  {
   "cell_type": "code",
   "execution_count": null,
   "id": "46e6b4ea",
   "metadata": {},
   "outputs": [],
   "source": []
  }
 ],
 "metadata": {
  "kernelspec": {
   "display_name": "Python 3",
   "language": "python",
   "name": "python3"
  },
  "language_info": {
   "codemirror_mode": {
    "name": "ipython",
    "version": 3
   },
   "file_extension": ".py",
   "mimetype": "text/x-python",
   "name": "python",
   "nbconvert_exporter": "python",
   "pygments_lexer": "ipython3",
   "version": "3.8.8"
  }
 },
 "nbformat": 4,
 "nbformat_minor": 5
}
