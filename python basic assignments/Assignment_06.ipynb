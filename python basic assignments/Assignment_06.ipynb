{
 "cells": [
  {
   "cell_type": "markdown",
   "metadata": {},
   "source": [
    "# Assignment 6 Python basic"
   ]
  },
  {
   "cell_type": "markdown",
   "metadata": {},
   "source": [
    "#### 1.What are Escape characters ? and how do you use them ?\n",
    "**Ans:** To insert characters that are illegal in a string, use an escape character. An escape character is a backslash \\ followed by the character you want to insert. \n",
    "**example:** `\\t`, `\\n`,`\\r`\n"
   ]
  },
  {
   "cell_type": "markdown",
   "metadata": {},
   "source": [
    "#### 2.What do the escape characters n and t stand for ?\n",
    "**Ans:** `\\n` is a newline, `\\t` is a tab"
   ]
  },
  {
   "cell_type": "markdown",
   "metadata": {},
   "source": [
    "#### 3.What is the way to include backslash character in a string?\n",
    "**Ans:**  The backslash character in a string will represent by `\\\\`"
   ]
  },
  {
   "cell_type": "markdown",
   "metadata": {},
   "source": [
    "#### 4.The string \"Howl's Moving Castle\" is a correct value. Why isn't the single quote character in the word Howl's not escaped a problem ?\n",
    "**Ans:** The string `\"Howl's Moving Castle\"` escaped the problem because it is wrapped inside double quotes. if its wrapped inside single quotes then we have to use escape character `\\'` to show single quote in the final output  \n",
    "`'Howl\\'s Moving Castle'` **`->`** `\"Howl's Moving Castle\"`"
   ]
  },
  {
   "cell_type": "markdown",
   "metadata": {},
   "source": [
    "#### 5.How do you write a string of newlines if you don't want to use the n character?\n",
    "**Ans:**  Multiline string allow you to use newlines in string without the `\\n` escape character  "
   ]
  },
  {
   "cell_type": "code",
   "execution_count": 18,
   "metadata": {},
   "outputs": [
    {
     "name": "stdout",
     "output_type": "stream",
     "text": [
      "iNeuron is best\n",
      "Data Science Course\n"
     ]
    }
   ],
   "source": [
    "# Example:\n",
    "A = '''iNeuron is best\n",
    "Data Science Course'''\n",
    "print(A)"
   ]
  },
  {
   "cell_type": "markdown",
   "metadata": {},
   "source": [
    "#### 6.What are the values of the given expressions ?\n",
    "'Hello, world!'[1]  \n",
    "'Hello, world!'[0:5]  \n",
    "'Hello, world!'[:5]  \n",
    "'Hello, world!'[3:]  "
   ]
  },
  {
   "cell_type": "code",
   "execution_count": 11,
   "metadata": {},
   "outputs": [
    {
     "data": {
      "text/plain": [
       "'Hello'"
      ]
     },
     "execution_count": 11,
     "metadata": {},
     "output_type": "execute_result"
    }
   ],
   "source": [
    "'Hello, world!'[:5]"
   ]
  },
  {
   "cell_type": "code",
   "execution_count": 9,
   "metadata": {},
   "outputs": [
    {
     "data": {
      "text/plain": [
       "'e'"
      ]
     },
     "execution_count": 9,
     "metadata": {},
     "output_type": "execute_result"
    }
   ],
   "source": [
    "'Hello, world!'[1]"
   ]
  },
  {
   "cell_type": "code",
   "execution_count": 10,
   "metadata": {},
   "outputs": [
    {
     "data": {
      "text/plain": [
       "'Hello'"
      ]
     },
     "execution_count": 10,
     "metadata": {},
     "output_type": "execute_result"
    }
   ],
   "source": [
    "'Hello, world!'[0:5]"
   ]
  },
  {
   "cell_type": "code",
   "execution_count": 12,
   "metadata": {},
   "outputs": [
    {
     "data": {
      "text/plain": [
       "'lo, world!'"
      ]
     },
     "execution_count": 12,
     "metadata": {},
     "output_type": "execute_result"
    }
   ],
   "source": [
    "'Hello, world!'[3:]"
   ]
  },
  {
   "cell_type": "markdown",
   "metadata": {},
   "source": [
    "#### 7.What are the values of the following expressions ?\n",
    "'Hello'.upper()  \n",
    "'Hello'.upper().isupper()  \n",
    "'Hello'.upper().lower()    \n",
    "\n"
   ]
  },
  {
   "cell_type": "code",
   "execution_count": 19,
   "metadata": {},
   "outputs": [
    {
     "data": {
      "text/plain": [
       "'HELLO'"
      ]
     },
     "execution_count": 19,
     "metadata": {},
     "output_type": "execute_result"
    }
   ],
   "source": [
    "'Hello'.upper() "
   ]
  },
  {
   "cell_type": "code",
   "execution_count": 20,
   "metadata": {},
   "outputs": [
    {
     "data": {
      "text/plain": [
       "True"
      ]
     },
     "execution_count": 20,
     "metadata": {},
     "output_type": "execute_result"
    }
   ],
   "source": [
    "'Hello'.upper().isupper()"
   ]
  },
  {
   "cell_type": "code",
   "execution_count": 21,
   "metadata": {},
   "outputs": [
    {
     "data": {
      "text/plain": [
       "'hello'"
      ]
     },
     "execution_count": 21,
     "metadata": {},
     "output_type": "execute_result"
    }
   ],
   "source": [
    "'Hello'.upper().lower()"
   ]
  },
  {
   "cell_type": "markdown",
   "metadata": {},
   "source": [
    "#### 8.What are the values of the following expressions ?\n",
    "'Remember, remember, the fifith of July.'.split()  \n",
    "-'.join('There can only one'.split())\n",
    "\n",
    "**Ans:** The values for the given expressions are:  "
   ]
  },
  {
   "cell_type": "code",
   "execution_count": 22,
   "metadata": {},
   "outputs": [
    {
     "data": {
      "text/plain": [
       "['Remember,', 'remember,', 'the', 'fifith', 'of', 'July.']"
      ]
     },
     "execution_count": 22,
     "metadata": {},
     "output_type": "execute_result"
    }
   ],
   "source": [
    "'Remember, remember, the fifith of July.'.split()"
   ]
  },
  {
   "cell_type": "code",
   "execution_count": 23,
   "metadata": {},
   "outputs": [
    {
     "data": {
      "text/plain": [
       "'There-can-only-one'"
      ]
     },
     "execution_count": 23,
     "metadata": {},
     "output_type": "execute_result"
    }
   ],
   "source": [
    "'-'.join('There can only one'.split())"
   ]
  },
  {
   "cell_type": "markdown",
   "metadata": {},
   "source": [
    "#### 9.What are the methods for right-justifying, left-justifying and centering a string ?\n",
    "**Ans:** The `rjust()`,`ljust()`,`center()` string methods, respectively"
   ]
  },
  {
   "cell_type": "markdown",
   "metadata": {},
   "source": [
    "#### 10.What is the best way to remove whitespace characters from the start or end ?\n",
    "**Ans:** The `lstrip()` and `rstrip()` methods remove whitesapce characters from the left and right ends of a string respectively"
   ]
  }
 ],
 "metadata": {
  "kernelspec": {
   "display_name": "Python 3",
   "language": "python",
   "name": "python3"
  },
  "language_info": {
   "codemirror_mode": {
    "name": "ipython",
    "version": 3
   },
   "file_extension": ".py",
   "mimetype": "text/x-python",
   "name": "python",
   "nbconvert_exporter": "python",
   "pygments_lexer": "ipython3",
   "version": "3.8.8"
  }
 },
 "nbformat": 4,
 "nbformat_minor": 4
}
